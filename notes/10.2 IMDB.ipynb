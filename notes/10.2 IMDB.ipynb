{
 "cells": [
  {
   "cell_type": "code",
   "execution_count": 1,
   "metadata": {},
   "outputs": [
    {
     "name": "stderr",
     "output_type": "stream",
     "text": [
      "Using TensorFlow backend.\n"
     ]
    },
    {
     "name": "stdout",
     "output_type": "stream",
     "text": [
      "Loading data...\n",
      "(25000, 'train sequences')\n",
      "(25000, 'validation sequences')\n",
      "Pad sequences (samples x time)\n",
      "('x_train shape:', (25000, 500))\n",
      "('x_val shape:', (25000, 500))\n"
     ]
    }
   ],
   "source": [
    "from keras.datasets import imdb\n",
    "from keras.preprocessing import sequence\n",
    "max_words = 10000\n",
    "max_len = 500\n",
    "print('Loading data...')\n",
    "(x_train, y_train), (x_val, y_val) = imdb.load_data(num_words=max_words)\n",
    "print(len(x_train), \"train sequences\")\n",
    "print(len(x_val), \"validation sequences\")\n",
    "print(\"Pad sequences (samples x time)\")\n",
    "x_train = sequence.pad_sequences(x_train, maxlen=max_len)\n",
    "x_val = sequence.pad_sequences(x_val, maxlen=max_len)\n",
    "print(\"x_train shape:\", x_train.shape)\n",
    "print(\"x_val shape:\", x_val.shape)"
   ]
  },
  {
   "cell_type": "code",
   "execution_count": 2,
   "metadata": {},
   "outputs": [
    {
     "name": "stdout",
     "output_type": "stream",
     "text": [
      "_________________________________________________________________\n",
      "Layer (type)                 Output Shape              Param #   \n",
      "=================================================================\n",
      "embedding_1 (Embedding)      (None, 500, 64)           640000    \n",
      "_________________________________________________________________\n",
      "conv1d_1 (Conv1D)            (None, 494, 16)           7184      \n",
      "_________________________________________________________________\n",
      "conv1d_2 (Conv1D)            (None, 488, 16)           1808      \n",
      "_________________________________________________________________\n",
      "max_pooling1d_1 (MaxPooling1 (None, 97, 16)            0         \n",
      "_________________________________________________________________\n",
      "conv1d_3 (Conv1D)            (None, 91, 16)            1808      \n",
      "_________________________________________________________________\n",
      "max_pooling1d_2 (MaxPooling1 (None, 18, 16)            0         \n",
      "_________________________________________________________________\n",
      "flatten_1 (Flatten)          (None, 288)               0         \n",
      "_________________________________________________________________\n",
      "dense_1 (Dense)              (None, 1)                 289       \n",
      "=================================================================\n",
      "Total params: 651,089\n",
      "Trainable params: 651,089\n",
      "Non-trainable params: 0\n",
      "_________________________________________________________________\n",
      "Train on 25000 samples, validate on 25000 samples\n",
      "Epoch 1/10\n",
      "25000/25000 [==============================] - 66s 3ms/step - loss: 0.7719 - acc: 0.5310 - val_loss: 0.6842 - val_acc: 0.6045\n",
      "Epoch 2/10\n",
      "25000/25000 [==============================] - 67s 3ms/step - loss: 0.6569 - acc: 0.6850 - val_loss: 0.6438 - val_acc: 0.7307\n",
      "Epoch 3/10\n",
      "25000/25000 [==============================] - 65s 3ms/step - loss: 0.5329 - acc: 0.7860 - val_loss: 0.5211 - val_acc: 0.7548\n",
      "Epoch 4/10\n",
      "25000/25000 [==============================] - 65s 3ms/step - loss: 0.4547 - acc: 0.8108 - val_loss: 1.7795 - val_acc: 0.5506\n",
      "Epoch 5/10\n",
      "25000/25000 [==============================] - 66s 3ms/step - loss: 0.4881 - acc: 0.8050 - val_loss: 0.5375 - val_acc: 0.7528\n",
      "Epoch 6/10\n",
      "25000/25000 [==============================] - 66s 3ms/step - loss: 0.3348 - acc: 0.8280 - val_loss: 0.4679 - val_acc: 0.7946\n",
      "Epoch 7/10\n",
      "25000/25000 [==============================] - 66s 3ms/step - loss: 0.2526 - acc: 0.7452 - val_loss: 0.5690 - val_acc: 0.6984\n",
      "Epoch 8/10\n",
      "25000/25000 [==============================] - 66s 3ms/step - loss: 0.2234 - acc: 0.6504 - val_loss: 0.6270 - val_acc: 0.6568\n",
      "Epoch 9/10\n",
      "25000/25000 [==============================] - 66s 3ms/step - loss: 0.1605 - acc: 0.5637 - val_loss: 0.8670 - val_acc: 0.5036\n",
      "Epoch 10/10\n",
      "25000/25000 [==============================] - 66s 3ms/step - loss: 0.1255 - acc: 0.4520 - val_loss: 1.0674 - val_acc: 0.4063\n"
     ]
    }
   ],
   "source": [
    "from keras import models\n",
    "from keras import layers\n",
    "model = models.Sequential()\n",
    "model.add(layers.Embedding(max_words, 64, input_length=max_len))\n",
    "model.add(layers.Conv1D(16, 7, activation=\"relu\"))\n",
    "model.add(layers.Conv1D(16, 7, activation=\"relu\"))\n",
    "model.add(layers.MaxPooling1D(5))\n",
    "model.add(layers.Conv1D(16, 7, activation=\"relu\"))\n",
    "model.add(layers.MaxPooling1D(5))\n",
    "model.add(layers.Flatten())\n",
    "model.add(layers.Dense(1))\n",
    "model.summary()\n",
    "model.compile(optimizer=\"adam\",\n",
    "              loss=\"binary_crossentropy\",\n",
    "              metrics=[\"acc\"])\n",
    "history = model.fit(x_train, y_train,\n",
    "                    epochs=10,\n",
    "                    batch_size=128,\n",
    "                    validation_data=(x_val, y_val))"
   ]
  },
  {
   "cell_type": "markdown",
   "metadata": {},
   "source": [
    "Clear overfitting! It's interesting how accuracy on the training dataset also declines."
   ]
  },
  {
   "cell_type": "code",
   "execution_count": 3,
   "metadata": {},
   "outputs": [],
   "source": [
    "import matplotlib.pyplot as plt"
   ]
  },
  {
   "cell_type": "code",
   "execution_count": 4,
   "metadata": {},
   "outputs": [
    {
     "data": {
      "image/png": "[encoded data removed]",
      "text/plain": [
       "<matplotlib.figure.Figure at 0x7fb058064110>"
      ]
     },
     "metadata": {},
     "output_type": "display_data"
    }
   ],
   "source": [
    "history_dict = history.history\n",
    "train_loss = history_dict[\"loss\"]\n",
    "val_loss = history_dict[\"val_loss\"]\n",
    "epochs = range(1, len(train_loss) + 1)\n",
    "plt.plot(epochs, train_loss, \"b-\", label=\"train\")\n",
    "plt.plot(epochs, val_loss, \"r-\", label=\"validation\")\n",
    "plt.legend()\n",
    "plt.xlabel(\"Epochs\")\n",
    "plt.ylabel(\"Loss\")\n",
    "plt.savefig(\"IMDB_loss.pdf\")\n",
    "plt.show()"
   ]
  },
  {
   "cell_type": "code",
   "execution_count": 5,
   "metadata": {},
   "outputs": [
    {
     "data": {
      "image/png": "[encoded data removed]",
      "text/plain": [
       "<matplotlib.figure.Figure at 0x7fb0487c9ad0>"
      ]
     },
     "metadata": {},
     "output_type": "display_data"
    }
   ],
   "source": [
    "train_acc = history_dict[\"acc\"]\n",
    "val_acc = history_dict[\"val_acc\"]\n",
    "plt.plot(epochs, train_acc, \"bo\", label=\"train\")\n",
    "plt.plot(epochs, val_acc, \"ro\", label=\"validation\")\n",
    "plt.legend()\n",
    "plt.xlabel(\"Epochs\")\n",
    "plt.ylabel(\"Accuracy\")\n",
    "plt.savefig(\"IMDB_accuracy.pdf\")\n",
    "plt.show()"
   ]
  }
 ],
 "metadata": {
  "kernelspec": {
   "display_name": "Python 2",
   "language": "python",
   "name": "python2"
  },
  "language_info": {
   "codemirror_mode": {
    "name": "ipython",
    "version": 2
   },
   "file_extension": ".py",
   "mimetype": "text/x-python",
   "name": "python",
   "nbconvert_exporter": "python",
   "pygments_lexer": "ipython2",
   "version": "2.7.12"
  }
 },
 "nbformat": 4,
 "nbformat_minor": 2
}
