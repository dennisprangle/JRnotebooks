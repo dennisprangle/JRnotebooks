{
 "cells": [
  {
   "cell_type": "code",
   "execution_count": 1,
   "metadata": {},
   "outputs": [
    {
     "name": "stderr",
     "output_type": "stream",
     "text": [
      "Using TensorFlow backend.\n"
     ]
    },
    {
     "name": "stdout",
     "output_type": "stream",
     "text": [
      "Loading data...\n",
      "25000 train sequences\n",
      "25000 validation sequences\n",
      "Pad sequences (samples x time)\n",
      "x_train shape: (25000, 500)\n",
      "x_val shape: (25000, 500)\n"
     ]
    }
   ],
   "source": [
    "from keras.datasets import imdb\n",
    "from keras.preprocessing import sequence\n",
    "max_words = 10000\n",
    "max_len = 500\n",
    "print('Loading data...')\n",
    "(x_train, y_train), (x_val, y_val) = imdb.load_data(num_words=max_words)\n",
    "print(len(x_train), \"train sequences\")\n",
    "print(len(x_val), \"validation sequences\")\n",
    "print(\"Pad sequences (samples x time)\")\n",
    "x_train = sequence.pad_sequences(x_train, maxlen=max_len)\n",
    "x_val = sequence.pad_sequences(x_val, maxlen=max_len)\n",
    "print(\"x_train shape:\", x_train.shape)\n",
    "print(\"x_val shape:\", x_val.shape)"
   ]
  },
  {
   "cell_type": "code",
   "execution_count": 2,
   "metadata": {},
   "outputs": [
    {
     "name": "stdout",
     "output_type": "stream",
     "text": [
      "WARNING:tensorflow:From /home/dennis/.local/lib/python3.5/site-packages/tensorflow/python/framework/op_def_library.py:263: colocate_with (from tensorflow.python.framework.ops) is deprecated and will be removed in a future version.\n",
      "Instructions for updating:\n",
      "Colocations handled automatically by placer.\n",
      "_________________________________________________________________\n",
      "Layer (type)                 Output Shape              Param #   \n",
      "=================================================================\n",
      "embedding_1 (Embedding)      (None, 500, 64)           640000    \n",
      "_________________________________________________________________\n",
      "conv1d_1 (Conv1D)            (None, 494, 16)           7184      \n",
      "_________________________________________________________________\n",
      "conv1d_2 (Conv1D)            (None, 488, 16)           1808      \n",
      "_________________________________________________________________\n",
      "max_pooling1d_1 (MaxPooling1 (None, 97, 16)            0         \n",
      "_________________________________________________________________\n",
      "conv1d_3 (Conv1D)            (None, 91, 16)            1808      \n",
      "_________________________________________________________________\n",
      "max_pooling1d_2 (MaxPooling1 (None, 18, 16)            0         \n",
      "_________________________________________________________________\n",
      "flatten_1 (Flatten)          (None, 288)               0         \n",
      "_________________________________________________________________\n",
      "dense_1 (Dense)              (None, 1)                 289       \n",
      "=================================================================\n",
      "Total params: 651,089\n",
      "Trainable params: 651,089\n",
      "Non-trainable params: 0\n",
      "_________________________________________________________________\n",
      "WARNING:tensorflow:From /home/dennis/.local/lib/python3.5/site-packages/tensorflow/python/ops/math_ops.py:3066: to_int32 (from tensorflow.python.ops.math_ops) is deprecated and will be removed in a future version.\n",
      "Instructions for updating:\n",
      "Use tf.cast instead.\n",
      "Train on 25000 samples, validate on 25000 samples\n",
      "Epoch 1/10\n",
      "25000/25000 [==============================] - 54s 2ms/step - loss: 0.6404 - acc: 0.5854 - val_loss: 0.3860 - val_acc: 0.8321\n",
      "Epoch 2/10\n",
      "25000/25000 [==============================] - 47s 2ms/step - loss: 0.2752 - acc: 0.8886 - val_loss: 0.2924 - val_acc: 0.8772\n",
      "Epoch 3/10\n",
      "25000/25000 [==============================] - 45s 2ms/step - loss: 0.1644 - acc: 0.9394 - val_loss: 0.3417 - val_acc: 0.8647\n",
      "Epoch 4/10\n",
      "25000/25000 [==============================] - 45s 2ms/step - loss: 0.1050 - acc: 0.9627 - val_loss: 0.4401 - val_acc: 0.8558\n",
      "Epoch 5/10\n",
      "25000/25000 [==============================] - 46s 2ms/step - loss: 0.0591 - acc: 0.9806 - val_loss: 0.5650 - val_acc: 0.8542\n",
      "Epoch 6/10\n",
      "25000/25000 [==============================] - 46s 2ms/step - loss: 0.0299 - acc: 0.9914 - val_loss: 0.7314 - val_acc: 0.8492\n",
      "Epoch 7/10\n",
      "25000/25000 [==============================] - 46s 2ms/step - loss: 0.0170 - acc: 0.9944 - val_loss: 0.8853 - val_acc: 0.8483\n",
      "Epoch 8/10\n",
      "25000/25000 [==============================] - 46s 2ms/step - loss: 0.0117 - acc: 0.9968 - val_loss: 0.9687 - val_acc: 0.8504\n",
      "Epoch 9/10\n",
      "25000/25000 [==============================] - 48s 2ms/step - loss: 0.0083 - acc: 0.9982 - val_loss: 1.1091 - val_acc: 0.8466\n",
      "Epoch 10/10\n",
      "25000/25000 [==============================] - 49s 2ms/step - loss: 0.0112 - acc: 0.9962 - val_loss: 1.1270 - val_acc: 0.8417\n"
     ]
    }
   ],
   "source": [
    "from keras import models\n",
    "from keras import layers\n",
    "model = models.Sequential()\n",
    "model.add(layers.Embedding(max_words, 64, input_length=max_len))\n",
    "model.add(layers.Conv1D(16, 7, activation=\"relu\"))\n",
    "model.add(layers.Conv1D(16, 7, activation=\"relu\"))\n",
    "model.add(layers.MaxPooling1D(5))\n",
    "model.add(layers.Conv1D(16, 7, activation=\"relu\"))\n",
    "model.add(layers.MaxPooling1D(5))\n",
    "model.add(layers.Flatten())\n",
    "model.add(layers.Dense(1, activation=\"sigmoid\"))\n",
    "model.summary()\n",
    "model.compile(optimizer=\"adam\",\n",
    "              loss=\"binary_crossentropy\",\n",
    "              metrics=[\"acc\"])\n",
    "history = model.fit(x_train, y_train,\n",
    "                    epochs=10,\n",
    "                    batch_size=128,\n",
    "                    validation_data=(x_val, y_val))"
   ]
  },
  {
   "cell_type": "markdown",
   "metadata": {},
   "source": [
    "We get a maximum validation accuracy of 87%, but after this the validation accuracy falls while training accuracy reachs >99%! Clear overfitting."
   ]
  },
  {
   "cell_type": "code",
   "execution_count": 3,
   "metadata": {},
   "outputs": [],
   "source": [
    "import matplotlib.pyplot as plt"
   ]
  },
  {
   "cell_type": "code",
   "execution_count": 4,
   "metadata": {},
   "outputs": [
    {
     "data": {
      "image/png": "[encoded data removed]",
      "text/plain": [
       "<Figure size 432x288 with 1 Axes>"
      ]
     },
     "metadata": {},
     "output_type": "display_data"
    }
   ],
   "source": [
    "history_dict = history.history\n",
    "train_loss = history_dict[\"loss\"]\n",
    "val_loss = history_dict[\"val_loss\"]\n",
    "epochs = range(1, len(train_loss) + 1)\n",
    "plt.plot(epochs, train_loss, \"b-\", label=\"train\")\n",
    "plt.plot(epochs, val_loss, \"r-\", label=\"validation\")\n",
    "plt.legend()\n",
    "plt.xlabel(\"Epochs\")\n",
    "plt.ylabel(\"Loss\")\n",
    "plt.savefig(\"IMDB_loss.pdf\")\n",
    "plt.show()"
   ]
  },
  {
   "cell_type": "code",
   "execution_count": 5,
   "metadata": {},
   "outputs": [
    {
     "data": {
      "image/png": "[encoded data removed]",
      "text/plain": [
       "<Figure size 432x288 with 1 Axes>"
      ]
     },
     "metadata": {},
     "output_type": "display_data"
    }
   ],
   "source": [
    "train_acc = history_dict[\"acc\"]\n",
    "val_acc = history_dict[\"val_acc\"]\n",
    "plt.plot(epochs, train_acc, \"bo\", label=\"train\")\n",
    "plt.plot(epochs, val_acc, \"ro\", label=\"validation\")\n",
    "plt.legend()\n",
    "plt.xlabel(\"Epochs\")\n",
    "plt.ylabel(\"Accuracy\")\n",
    "plt.savefig(\"IMDB_accuracy.pdf\")\n",
    "plt.show()"
   ]
  }
 ],
 "metadata": {
  "kernelspec": {
   "display_name": "Python 2",
   "language": "python",
   "name": "python2"
  },
  "language_info": {
   "codemirror_mode": {
    "name": "ipython",
    "version": 3
   },
   "file_extension": ".py",
   "mimetype": "text/x-python",
   "name": "python",
   "nbconvert_exporter": "python",
   "pygments_lexer": "ipython3",
   "version": "3.5.2"
  }
 },
 "nbformat": 4,
 "nbformat_minor": 2
}
