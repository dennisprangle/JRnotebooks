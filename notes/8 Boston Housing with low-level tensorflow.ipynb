{
 "cells": [
  {
   "cell_type": "code",
   "execution_count": 1,
   "metadata": {},
   "outputs": [],
   "source": [
    "import tensorflow as tf\n",
    "x = tf.placeholder(dtype=tf.float32, shape=(None, 13))\n",
    "y = tf.placeholder(dtype=tf.float32, shape=(None, 1))"
   ]
  },
  {
   "cell_type": "code",
   "execution_count": 2,
   "metadata": {},
   "outputs": [],
   "source": [
    "bias = tf.Variable(tf.random_normal([1]))\n",
    "weights = tf.Variable(tf.zeros([13, 1]))"
   ]
  },
  {
   "cell_type": "code",
   "execution_count": 3,
   "metadata": {},
   "outputs": [],
   "source": [
    "pred = tf.matmul(x, weights) + bias"
   ]
  },
  {
   "cell_type": "code",
   "execution_count": 4,
   "metadata": {},
   "outputs": [],
   "source": [
    "loss = tf.reduce_mean(tf.square(pred - y))"
   ]
  },
  {
   "cell_type": "code",
   "execution_count": 5,
   "metadata": {},
   "outputs": [],
   "source": [
    "optimiser = tf.train.AdamOptimizer()\n",
    "train = optimiser.minimize(loss)\n",
    "init = tf.global_variables_initializer()"
   ]
  },
  {
   "cell_type": "code",
   "execution_count": 6,
   "metadata": {},
   "outputs": [],
   "source": [
    "sess = tf.Session()\n",
    "sess.run(init)"
   ]
  },
  {
   "cell_type": "code",
   "execution_count": 7,
   "metadata": {},
   "outputs": [
    {
     "data": {
      "text/plain": [
       "(array([0.48136047], dtype=float32), array([[0.],\n",
       "        [0.],\n",
       "        [0.],\n",
       "        [0.],\n",
       "        [0.],\n",
       "        [0.],\n",
       "        [0.],\n",
       "        [0.],\n",
       "        [0.],\n",
       "        [0.],\n",
       "        [0.],\n",
       "        [0.],\n",
       "        [0.]], dtype=float32))"
      ]
     },
     "execution_count": 7,
     "metadata": {},
     "output_type": "execute_result"
    }
   ],
   "source": [
    "sess.run((bias, weights))"
   ]
  },
  {
   "cell_type": "code",
   "execution_count": 8,
   "metadata": {},
   "outputs": [
    {
     "name": "stderr",
     "output_type": "stream",
     "text": [
      "Using TensorFlow backend.\n"
     ]
    }
   ],
   "source": [
    "from keras.datasets import boston_housing\n",
    "(x_train, y_train), (x_val, y_val) = boston_housing.load_data()\n",
    "y_train = y_train.reshape((404,1))"
   ]
  },
  {
   "cell_type": "code",
   "execution_count": 9,
   "metadata": {},
   "outputs": [
    {
     "name": "stdout",
     "output_type": "stream",
     "text": [
      "Epochs   0 Loss 564.8\n",
      "Epochs   1 Loss 527.0\n",
      "Epochs   2 Loss 490.8\n",
      "Epochs   3 Loss 456.5\n",
      "Epochs   4 Loss 424.0\n",
      "Epochs   5 Loss 393.3\n",
      "Epochs   6 Loss 364.5\n",
      "Epochs   7 Loss 337.5\n",
      "Epochs   8 Loss 312.3\n",
      "Epochs   9 Loss 289.0\n",
      "Epochs  10 Loss 267.5\n",
      "Epochs  11 Loss 247.8\n",
      "Epochs  12 Loss 229.8\n",
      "Epochs  13 Loss 213.6\n",
      "Epochs  14 Loss 199.0\n",
      "Epochs  15 Loss 186.0\n",
      "Epochs  16 Loss 174.5\n",
      "Epochs  17 Loss 164.5\n",
      "Epochs  18 Loss 155.8\n",
      "Epochs  19 Loss 148.4\n",
      "Epochs  20 Loss 142.1\n",
      "Epochs  21 Loss 136.9\n",
      "Epochs  22 Loss 132.7\n",
      "Epochs  23 Loss 129.3\n",
      "Epochs  24 Loss 126.6\n",
      "Epochs  25 Loss 124.6\n",
      "Epochs  26 Loss 123.1\n",
      "Epochs  27 Loss 122.0\n",
      "Epochs  28 Loss 121.2\n",
      "Epochs  29 Loss 120.7\n",
      "Epochs  30 Loss 120.4\n",
      "Epochs  31 Loss 120.2\n",
      "Epochs  32 Loss 120.0\n",
      "Epochs  33 Loss 119.8\n",
      "Epochs  34 Loss 119.6\n",
      "Epochs  35 Loss 119.3\n",
      "Epochs  36 Loss 119.0\n",
      "Epochs  37 Loss 118.5\n",
      "Epochs  38 Loss 117.9\n",
      "Epochs  39 Loss 117.3\n",
      "Epochs  40 Loss 116.5\n",
      "Epochs  41 Loss 115.6\n",
      "Epochs  42 Loss 114.7\n",
      "Epochs  43 Loss 113.7\n",
      "Epochs  44 Loss 112.7\n",
      "Epochs  45 Loss 111.6\n",
      "Epochs  46 Loss 110.5\n",
      "Epochs  47 Loss 109.3\n",
      "Epochs  48 Loss 108.2\n",
      "Epochs  49 Loss 107.1\n",
      "Epochs  50 Loss 106.1\n",
      "Epochs  51 Loss 105.1\n",
      "Epochs  52 Loss 104.1\n",
      "Epochs  53 Loss 103.1\n",
      "Epochs  54 Loss 102.2\n",
      "Epochs  55 Loss 101.3\n",
      "Epochs  56 Loss 100.5\n",
      "Epochs  57 Loss 99.8\n",
      "Epochs  58 Loss 99.0\n",
      "Epochs  59 Loss 98.3\n",
      "Epochs  60 Loss 97.7\n",
      "Epochs  61 Loss 97.0\n",
      "Epochs  62 Loss 96.4\n",
      "Epochs  63 Loss 95.8\n",
      "Epochs  64 Loss 95.3\n",
      "Epochs  65 Loss 94.7\n",
      "Epochs  66 Loss 94.1\n",
      "Epochs  67 Loss 93.6\n",
      "Epochs  68 Loss 93.0\n",
      "Epochs  69 Loss 92.5\n",
      "Epochs  70 Loss 92.0\n",
      "Epochs  71 Loss 91.4\n",
      "Epochs  72 Loss 90.9\n",
      "Epochs  73 Loss 90.4\n",
      "Epochs  74 Loss 89.9\n",
      "Epochs  75 Loss 89.4\n",
      "Epochs  76 Loss 88.9\n",
      "Epochs  77 Loss 88.4\n",
      "Epochs  78 Loss 87.9\n",
      "Epochs  79 Loss 87.4\n",
      "Epochs  80 Loss 86.9\n",
      "Epochs  81 Loss 86.4\n",
      "Epochs  82 Loss 86.0\n",
      "Epochs  83 Loss 85.5\n",
      "Epochs  84 Loss 85.1\n",
      "Epochs  85 Loss 84.7\n",
      "Epochs  86 Loss 84.2\n",
      "Epochs  87 Loss 83.8\n",
      "Epochs  88 Loss 83.4\n",
      "Epochs  89 Loss 83.0\n",
      "Epochs  90 Loss 82.7\n",
      "Epochs  91 Loss 82.3\n",
      "Epochs  92 Loss 81.9\n",
      "Epochs  93 Loss 81.6\n",
      "Epochs  94 Loss 81.2\n",
      "Epochs  95 Loss 80.9\n",
      "Epochs  96 Loss 80.5\n",
      "Epochs  97 Loss 80.2\n",
      "Epochs  98 Loss 79.9\n",
      "Epochs  99 Loss 79.6\n"
     ]
    }
   ],
   "source": [
    "for e in xrange(100):\n",
    "  train_loss = 0.\n",
    "  next_loss, _ = sess.run([loss, train], {x:x_train, y:y_train})\n",
    "  train_loss += next_loss\n",
    "  print \"Epochs {:3d} Loss {:.1f}\".format(e, train_loss)"
   ]
  },
  {
   "cell_type": "code",
   "execution_count": 10,
   "metadata": {},
   "outputs": [],
   "source": [
    "sess.close()"
   ]
  }
 ],
 "metadata": {
  "kernelspec": {
   "display_name": "Python 2",
   "language": "python",
   "name": "python2"
  },
  "language_info": {
   "codemirror_mode": {
    "name": "ipython",
    "version": 2
   },
   "file_extension": ".py",
   "mimetype": "text/x-python",
   "name": "python",
   "nbconvert_exporter": "python",
   "pygments_lexer": "ipython2",
   "version": "2.7.12"
  }
 },
 "nbformat": 4,
 "nbformat_minor": 2
}
