{
 "cells": [
  {
   "cell_type": "code",
   "execution_count": 1,
   "metadata": {},
   "outputs": [],
   "source": [
    "import tensorflow as tf\n",
    "x = tf.placeholder(dtype=tf.float32, shape=(None, 13))\n",
    "y = tf.placeholder(dtype=tf.float32, shape=(None, 1))"
   ]
  },
  {
   "cell_type": "code",
   "execution_count": 2,
   "metadata": {},
   "outputs": [],
   "source": [
    "bias = tf.Variable(tf.random_normal([1]))\n",
    "weights = tf.Variable(tf.zeros([13, 1]))"
   ]
  },
  {
   "cell_type": "code",
   "execution_count": 3,
   "metadata": {},
   "outputs": [],
   "source": [
    "pred = tf.matmul(x, weights) + bias"
   ]
  },
  {
   "cell_type": "code",
   "execution_count": 4,
   "metadata": {},
   "outputs": [],
   "source": [
    "loss = tf.reduce_mean(tf.square(pred - y))"
   ]
  },
  {
   "cell_type": "code",
   "execution_count": 5,
   "metadata": {},
   "outputs": [],
   "source": [
    "optimiser = tf.train.AdamOptimizer()\n",
    "train = optimiser.minimize(loss)\n",
    "init = tf.global_variables_initializer()"
   ]
  },
  {
   "cell_type": "code",
   "execution_count": 6,
   "metadata": {},
   "outputs": [],
   "source": [
    "sess = tf.Session()\n",
    "sess.run(init)"
   ]
  },
  {
   "cell_type": "code",
   "execution_count": 7,
   "metadata": {},
   "outputs": [
    {
     "data": {
      "text/plain": [
       "(array([-0.28328156], dtype=float32), array([[ 0.],\n",
       "        [ 0.],\n",
       "        [ 0.],\n",
       "        [ 0.],\n",
       "        [ 0.],\n",
       "        [ 0.],\n",
       "        [ 0.],\n",
       "        [ 0.],\n",
       "        [ 0.],\n",
       "        [ 0.],\n",
       "        [ 0.],\n",
       "        [ 0.],\n",
       "        [ 0.]], dtype=float32))"
      ]
     },
     "execution_count": 7,
     "metadata": {},
     "output_type": "execute_result"
    }
   ],
   "source": [
    "sess.run((bias, weights))"
   ]
  },
  {
   "cell_type": "code",
   "execution_count": 8,
   "metadata": {},
   "outputs": [
    {
     "name": "stderr",
     "output_type": "stream",
     "text": [
      "Using TensorFlow backend.\n"
     ]
    },
    {
     "data": {
      "text/plain": [
       "598.92902"
      ]
     },
     "execution_count": 8,
     "metadata": {},
     "output_type": "execute_result"
    }
   ],
   "source": [
    "from keras.datasets import boston_housing\n",
    "(x_train, y_train), (x_val, y_val) = boston_housing.load_data()\n",
    "y_train = y_train.reshape((404,1))\n",
    "sess.run(loss, {x:x_train, y:y_train})"
   ]
  },
  {
   "cell_type": "code",
   "execution_count": 9,
   "metadata": {},
   "outputs": [
    {
     "name": "stdout",
     "output_type": "stream",
     "text": [
      "Epochs   0 Loss 598.9\n",
      "Epochs   1 Loss 559.7\n",
      "Epochs   2 Loss 522.2\n",
      "Epochs   3 Loss 486.5\n",
      "Epochs   4 Loss 452.5\n",
      "Epochs   5 Loss 420.5\n",
      "Epochs   6 Loss 390.2\n",
      "Epochs   7 Loss 361.9\n",
      "Epochs   8 Loss 335.3\n",
      "Epochs   9 Loss 310.6\n",
      "Epochs  10 Loss 287.8\n",
      "Epochs  11 Loss 266.7\n",
      "Epochs  12 Loss 247.4\n",
      "Epochs  13 Loss 229.8\n",
      "Epochs  14 Loss 214.0\n",
      "Epochs  15 Loss 199.7\n",
      "Epochs  16 Loss 187.0\n",
      "Epochs  17 Loss 175.8\n",
      "Epochs  18 Loss 166.0\n",
      "Epochs  19 Loss 157.5\n",
      "Epochs  20 Loss 150.3\n",
      "Epochs  21 Loss 144.1\n",
      "Epochs  22 Loss 139.0\n",
      "Epochs  23 Loss 134.8\n",
      "Epochs  24 Loss 131.4\n",
      "Epochs  25 Loss 128.8\n",
      "Epochs  26 Loss 126.7\n",
      "Epochs  27 Loss 125.1\n",
      "Epochs  28 Loss 124.0\n",
      "Epochs  29 Loss 123.2\n",
      "Epochs  30 Loss 122.6\n",
      "Epochs  31 Loss 122.2\n",
      "Epochs  32 Loss 121.9\n",
      "Epochs  33 Loss 121.7\n",
      "Epochs  34 Loss 121.5\n",
      "Epochs  35 Loss 121.3\n",
      "Epochs  36 Loss 121.0\n",
      "Epochs  37 Loss 120.7\n",
      "Epochs  38 Loss 120.2\n",
      "Epochs  39 Loss 119.7\n",
      "Epochs  40 Loss 119.0\n",
      "Epochs  41 Loss 118.3\n",
      "Epochs  42 Loss 117.5\n",
      "Epochs  43 Loss 116.6\n",
      "Epochs  44 Loss 115.6\n",
      "Epochs  45 Loss 114.6\n",
      "Epochs  46 Loss 113.6\n",
      "Epochs  47 Loss 112.5\n",
      "Epochs  48 Loss 111.4\n",
      "Epochs  49 Loss 110.4\n",
      "Epochs  50 Loss 109.3\n",
      "Epochs  51 Loss 108.2\n",
      "Epochs  52 Loss 107.2\n",
      "Epochs  53 Loss 106.2\n",
      "Epochs  54 Loss 105.3\n",
      "Epochs  55 Loss 104.4\n",
      "Epochs  56 Loss 103.5\n",
      "Epochs  57 Loss 102.7\n",
      "Epochs  58 Loss 101.9\n",
      "Epochs  59 Loss 101.1\n",
      "Epochs  60 Loss 100.4\n",
      "Epochs  61 Loss 99.7\n",
      "Epochs  62 Loss 99.1\n",
      "Epochs  63 Loss 98.4\n",
      "Epochs  64 Loss 97.8\n",
      "Epochs  65 Loss 97.2\n",
      "Epochs  66 Loss 96.7\n",
      "Epochs  67 Loss 96.1\n",
      "Epochs  68 Loss 95.6\n",
      "Epochs  69 Loss 95.0\n",
      "Epochs  70 Loss 94.5\n",
      "Epochs  71 Loss 93.9\n",
      "Epochs  72 Loss 93.4\n",
      "Epochs  73 Loss 92.9\n",
      "Epochs  74 Loss 92.3\n",
      "Epochs  75 Loss 91.8\n",
      "Epochs  76 Loss 91.3\n",
      "Epochs  77 Loss 90.8\n",
      "Epochs  78 Loss 90.3\n",
      "Epochs  79 Loss 89.8\n",
      "Epochs  80 Loss 89.3\n",
      "Epochs  81 Loss 88.8\n",
      "Epochs  82 Loss 88.3\n",
      "Epochs  83 Loss 87.9\n",
      "Epochs  84 Loss 87.4\n",
      "Epochs  85 Loss 87.0\n",
      "Epochs  86 Loss 86.5\n",
      "Epochs  87 Loss 86.1\n",
      "Epochs  88 Loss 85.7\n",
      "Epochs  89 Loss 85.3\n",
      "Epochs  90 Loss 84.9\n",
      "Epochs  91 Loss 84.5\n",
      "Epochs  92 Loss 84.1\n",
      "Epochs  93 Loss 83.7\n",
      "Epochs  94 Loss 83.3\n",
      "Epochs  95 Loss 83.0\n",
      "Epochs  96 Loss 82.6\n",
      "Epochs  97 Loss 82.3\n",
      "Epochs  98 Loss 81.9\n",
      "Epochs  99 Loss 81.6\n"
     ]
    }
   ],
   "source": [
    "for e in xrange(100):\n",
    "  train_loss = 0.\n",
    "  next_loss, _ = sess.run([loss, train], {x:x_train, y:y_train})\n",
    "  train_loss += next_loss\n",
    "  print \"Epochs {:3d} Loss {:.1f}\".format(e, train_loss)"
   ]
  },
  {
   "cell_type": "code",
   "execution_count": 10,
   "metadata": {},
   "outputs": [],
   "source": [
    "sess.close()"
   ]
  }
 ],
 "metadata": {
  "kernelspec": {
   "display_name": "Python 2",
   "language": "python",
   "name": "python2"
  },
  "language_info": {
   "codemirror_mode": {
    "name": "ipython",
    "version": 2
   },
   "file_extension": ".py",
   "mimetype": "text/x-python",
   "name": "python",
   "nbconvert_exporter": "python",
   "pygments_lexer": "ipython2",
   "version": "2.7.12"
  }
 },
 "nbformat": 4,
 "nbformat_minor": 2
}
