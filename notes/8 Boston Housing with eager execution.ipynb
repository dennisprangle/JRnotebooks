{
 "cells": [
  {
   "cell_type": "code",
   "execution_count": 1,
   "metadata": {},
   "outputs": [
    {
     "name": "stdout",
     "output_type": "stream",
     "text": [
      "\n",
      "WARNING: The TensorFlow contrib module will not be included in TensorFlow 2.0.\n",
      "For more information, please see:\n",
      "  * https://github.com/tensorflow/community/blob/master/rfcs/20180907-contrib-sunset.md\n",
      "  * https://github.com/tensorflow/addons\n",
      "If you depend on functionality not listed there, please file an issue.\n",
      "\n"
     ]
    }
   ],
   "source": [
    "import tensorflow as tf\n",
    "import numpy as np\n",
    "tf.enable_eager_execution()\n",
    "tfe = tf.contrib.eager"
   ]
  },
  {
   "cell_type": "code",
   "execution_count": 2,
   "metadata": {},
   "outputs": [
    {
     "name": "stdout",
     "output_type": "stream",
     "text": [
      "tf.Tensor(\n",
      "[[1. 2.]\n",
      " [3. 4.]], shape=(2, 2), dtype=float32)\n"
     ]
    }
   ],
   "source": [
    "x = tf.constant([[1., 2.],[3., 4.]])\n",
    "print(x)"
   ]
  },
  {
   "cell_type": "code",
   "execution_count": 3,
   "metadata": {},
   "outputs": [],
   "source": [
    "from tensorflow.keras.datasets import boston_housing\n",
    "(x_train, y_train), (x_val, y_val) = boston_housing.load_data()\n",
    "x = tf.constant(x_train, dtype=tf.float32)\n",
    "y = tf.constant(y_train, dtype=tf.float32)"
   ]
  },
  {
   "cell_type": "code",
   "execution_count": 4,
   "metadata": {},
   "outputs": [],
   "source": [
    "bias = tfe.Variable(np.random.normal(scale=0.05, size=1), dtype=tf.float32)\n",
    "weights = tfe.Variable(np.random.normal(scale=0.05, size=(13,1)), dtype=tf.float32)"
   ]
  },
  {
   "cell_type": "code",
   "execution_count": 5,
   "metadata": {},
   "outputs": [
    {
     "name": "stdout",
     "output_type": "stream",
     "text": [
      "WARNING:tensorflow:From /home/dennis/.local/lib/python3.5/site-packages/tensorflow/python/ops/resource_variable_ops.py:642: colocate_with (from tensorflow.python.framework.ops) is deprecated and will be removed in a future version.\n",
      "Instructions for updating:\n",
      "Colocations handled automatically by placer.\n"
     ]
    }
   ],
   "source": [
    "pred = tf.matmul(x, weights) + bias\n",
    "loss = tf.reduce_mean(tf.square(pred - y))"
   ]
  },
  {
   "cell_type": "code",
   "execution_count": 6,
   "metadata": {},
   "outputs": [],
   "source": [
    "def get_loss(weights, bias):\n",
    "  pred = tf.matmul(x, weights) + bias\n",
    "  return tf.reduce_mean(tf.square(pred - y))"
   ]
  },
  {
   "cell_type": "code",
   "execution_count": 7,
   "metadata": {},
   "outputs": [
    {
     "data": {
      "text/plain": [
       "<tf.Tensor: id=38, shape=(), dtype=float32, numpy=0.5>"
      ]
     },
     "execution_count": 7,
     "metadata": {},
     "output_type": "execute_result"
    }
   ],
   "source": [
    "a = tfe.Variable(2.0)\n",
    "with tf.GradientTape() as tape:\n",
    "    b = tf.log(a)\n",
    "tape.gradient(b,a)"
   ]
  },
  {
   "cell_type": "code",
   "execution_count": 8,
   "metadata": {},
   "outputs": [],
   "source": [
    "def get_grads(weights, bias):\n",
    "  with tf.GradientTape() as tape:\n",
    "    loss = get_loss(weights, bias)\n",
    "  return tape.gradient(loss, [weights, bias])"
   ]
  },
  {
   "cell_type": "code",
   "execution_count": 9,
   "metadata": {},
   "outputs": [
    {
     "name": "stdout",
     "output_type": "stream",
     "text": [
      "[<tf.Tensor: id=77, shape=(13, 1), dtype=float32, numpy=\n",
      "array([[-1.7197464e+02],\n",
      "       [-3.0604834e+02],\n",
      "       [-3.9079141e+02],\n",
      "       [-1.8779616e+00],\n",
      "       [-1.8327873e+01],\n",
      "       [-1.9578995e+02],\n",
      "       [-2.3304343e+03],\n",
      "       [-1.0808737e+02],\n",
      "       [-3.5825577e+02],\n",
      "       [-1.4018211e+04],\n",
      "       [-5.8973407e+02],\n",
      "       [-1.0308371e+04],\n",
      "       [-4.4866763e+02]], dtype=float32)>, <tf.Tensor: id=75, shape=(1,), dtype=float32, numpy=array([-31.56538], dtype=float32)>]\n"
     ]
    }
   ],
   "source": [
    "grads = get_grads(weights, bias)\n",
    "print(grads)"
   ]
  },
  {
   "cell_type": "code",
   "execution_count": 10,
   "metadata": {},
   "outputs": [],
   "source": [
    "optimiser = tf.train.AdamOptimizer()"
   ]
  },
  {
   "cell_type": "code",
   "execution_count": 11,
   "metadata": {},
   "outputs": [
    {
     "name": "stdout",
     "output_type": "stream",
     "text": [
      "Epochs   0 Loss 331.8\n",
      "Epochs   1 Loss 305.2\n",
      "Epochs   2 Loss 280.3\n",
      "Epochs   3 Loss 257.2\n",
      "Epochs   4 Loss 236.0\n",
      "Epochs   5 Loss 216.6\n",
      "Epochs   6 Loss 199.0\n",
      "Epochs   7 Loss 183.2\n",
      "Epochs   8 Loss 169.1\n",
      "Epochs   9 Loss 156.8\n",
      "Epochs  10 Loss 146.1\n",
      "Epochs  11 Loss 137.1\n",
      "Epochs  12 Loss 129.5\n",
      "Epochs  13 Loss 123.4\n",
      "Epochs  14 Loss 118.5\n",
      "Epochs  15 Loss 114.8\n",
      "Epochs  16 Loss 112.2\n",
      "Epochs  17 Loss 110.4\n",
      "Epochs  18 Loss 109.5\n",
      "Epochs  19 Loss 109.1\n",
      "Epochs  20 Loss 109.2\n",
      "Epochs  21 Loss 109.6\n",
      "Epochs  22 Loss 110.3\n",
      "Epochs  23 Loss 111.0\n",
      "Epochs  24 Loss 111.8\n",
      "Epochs  25 Loss 112.5\n",
      "Epochs  26 Loss 113.1\n",
      "Epochs  27 Loss 113.6\n",
      "Epochs  28 Loss 113.8\n",
      "Epochs  29 Loss 113.9\n",
      "Epochs  30 Loss 113.8\n",
      "Epochs  31 Loss 113.5\n",
      "Epochs  32 Loss 113.1\n",
      "Epochs  33 Loss 112.5\n",
      "Epochs  34 Loss 111.9\n",
      "Epochs  35 Loss 111.1\n",
      "Epochs  36 Loss 110.4\n",
      "Epochs  37 Loss 109.6\n",
      "Epochs  38 Loss 108.9\n",
      "Epochs  39 Loss 108.2\n",
      "Epochs  40 Loss 107.5\n",
      "Epochs  41 Loss 106.9\n",
      "Epochs  42 Loss 106.4\n",
      "Epochs  43 Loss 106.0\n",
      "Epochs  44 Loss 105.6\n",
      "Epochs  45 Loss 105.3\n",
      "Epochs  46 Loss 105.1\n",
      "Epochs  47 Loss 105.0\n",
      "Epochs  48 Loss 104.8\n",
      "Epochs  49 Loss 104.7\n",
      "Epochs  50 Loss 104.7\n",
      "Epochs  51 Loss 104.6\n",
      "Epochs  52 Loss 104.6\n",
      "Epochs  53 Loss 104.5\n",
      "Epochs  54 Loss 104.5\n",
      "Epochs  55 Loss 104.4\n",
      "Epochs  56 Loss 104.3\n",
      "Epochs  57 Loss 104.2\n",
      "Epochs  58 Loss 104.1\n",
      "Epochs  59 Loss 103.9\n",
      "Epochs  60 Loss 103.8\n",
      "Epochs  61 Loss 103.7\n",
      "Epochs  62 Loss 103.5\n",
      "Epochs  63 Loss 103.4\n",
      "Epochs  64 Loss 103.2\n",
      "Epochs  65 Loss 103.1\n",
      "Epochs  66 Loss 103.0\n",
      "Epochs  67 Loss 102.8\n",
      "Epochs  68 Loss 102.7\n",
      "Epochs  69 Loss 102.6\n",
      "Epochs  70 Loss 102.5\n",
      "Epochs  71 Loss 102.4\n",
      "Epochs  72 Loss 102.3\n",
      "Epochs  73 Loss 102.3\n",
      "Epochs  74 Loss 102.2\n",
      "Epochs  75 Loss 102.1\n",
      "Epochs  76 Loss 102.0\n",
      "Epochs  77 Loss 102.0\n",
      "Epochs  78 Loss 101.9\n",
      "Epochs  79 Loss 101.8\n",
      "Epochs  80 Loss 101.8\n",
      "Epochs  81 Loss 101.7\n",
      "Epochs  82 Loss 101.6\n",
      "Epochs  83 Loss 101.6\n",
      "Epochs  84 Loss 101.5\n",
      "Epochs  85 Loss 101.4\n",
      "Epochs  86 Loss 101.4\n",
      "Epochs  87 Loss 101.3\n",
      "Epochs  88 Loss 101.3\n",
      "Epochs  89 Loss 101.2\n",
      "Epochs  90 Loss 101.1\n",
      "Epochs  91 Loss 101.1\n",
      "Epochs  92 Loss 101.0\n",
      "Epochs  93 Loss 101.0\n",
      "Epochs  94 Loss 100.9\n",
      "Epochs  95 Loss 100.9\n",
      "Epochs  96 Loss 100.8\n",
      "Epochs  97 Loss 100.8\n",
      "Epochs  98 Loss 100.7\n",
      "Epochs  99 Loss 100.7\n"
     ]
    }
   ],
   "source": [
    "for e in range(100):\n",
    "  grads = get_grads(weights, bias)\n",
    "  optimiser.apply_gradients(zip(grads, [weights, bias]))\n",
    "  print(\"Epochs {:3d} Loss {:.1f}\".format(e, get_loss(weights, bias)))"
   ]
  }
 ],
 "metadata": {
  "kernelspec": {
   "display_name": "Python 3",
   "language": "python",
   "name": "python3"
  },
  "language_info": {
   "codemirror_mode": {
    "name": "ipython",
    "version": 3
   },
   "file_extension": ".py",
   "mimetype": "text/x-python",
   "name": "python",
   "nbconvert_exporter": "python",
   "pygments_lexer": "ipython3",
   "version": "3.5.2"
  }
 },
 "nbformat": 4,
 "nbformat_minor": 2
}
