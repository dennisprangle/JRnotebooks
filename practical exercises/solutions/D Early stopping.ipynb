{
 "cells": [
  {
   "cell_type": "markdown",
   "metadata": {},
   "source": [
    "# Early stopping example on MNIST data"
   ]
  },
  {
   "cell_type": "markdown",
   "metadata": {},
   "source": [
    "First we load the MNIST data."
   ]
  },
  {
   "cell_type": "code",
   "execution_count": 1,
   "metadata": {},
   "outputs": [
    {
     "name": "stderr",
     "output_type": "stream",
     "text": [
      "Using TensorFlow backend.\n"
     ]
    }
   ],
   "source": [
    "from keras.datasets import mnist\n",
    "(train_images, train_labels), (val_images, val_labels) = mnist.load_data()"
   ]
  },
  {
   "cell_type": "markdown",
   "metadata": {},
   "source": [
    "We preprocess the data as in Chapter 6.5."
   ]
  },
  {
   "cell_type": "code",
   "execution_count": 2,
   "metadata": {},
   "outputs": [],
   "source": [
    "train_images = train_images.reshape((60000, 28 * 28))\n",
    "train_images = train_images.astype(\"float32\") / 255\n",
    "val_images = val_images.reshape((10000, 28 * 28))\n",
    "val_images = val_images.astype(\"float32\") / 255\n",
    "from keras.utils import to_categorical\n",
    "train_labels = to_categorical(train_labels)\n",
    "val_labels = to_categorical(val_labels)"
   ]
  },
  {
   "cell_type": "markdown",
   "metadata": {},
   "source": [
    "We set up the same model as Chapter 6.5."
   ]
  },
  {
   "cell_type": "code",
   "execution_count": 3,
   "metadata": {},
   "outputs": [],
   "source": [
    "from keras import layers\n",
    "from keras import models\n",
    "model = models.Sequential()\n",
    "model.add(layers.Dense(128, activation=\"relu\", input_shape=(28 * 28,)))\n",
    "model.add(layers.Dense(32, activation=\"relu\"))\n",
    "model.add(layers.Dense(10, activation=\"softmax\"))"
   ]
  },
  {
   "cell_type": "markdown",
   "metadata": {},
   "source": [
    "Now we initialise the callbacks required for early stopping."
   ]
  },
  {
   "cell_type": "code",
   "execution_count": 4,
   "metadata": {},
   "outputs": [],
   "source": [
    "from keras import callbacks\n",
    "callbacks_list = [\n",
    "    callbacks.EarlyStopping(monitor=\"val_loss\", patience=3),\n",
    "    callbacks.ModelCheckpoint(filepath=\"mymodel.h5\", monitor=\"val_loss\",\n",
    "        save_best_only=True)\n",
    "]"
   ]
  },
  {
   "cell_type": "markdown",
   "metadata": {},
   "source": [
    "Now we run the model using early stopping."
   ]
  },
  {
   "cell_type": "code",
   "execution_count": 5,
   "metadata": {},
   "outputs": [
    {
     "name": "stdout",
     "output_type": "stream",
     "text": [
      "Train on 60000 samples, validate on 10000 samples\n",
      "Epoch 1/20\n",
      "60000/60000 [==============================] - 7s 119us/step - loss: 0.2874 - acc: 0.9181 - val_loss: 0.1450 - val_acc: 0.9568\n",
      "Epoch 2/20\n",
      "60000/60000 [==============================] - 6s 104us/step - loss: 0.1210 - acc: 0.9643 - val_loss: 0.1042 - val_acc: 0.9663\n",
      "Epoch 3/20\n",
      "60000/60000 [==============================] - 6s 101us/step - loss: 0.0840 - acc: 0.9746 - val_loss: 0.0919 - val_acc: 0.9726\n",
      "Epoch 4/20\n",
      "60000/60000 [==============================] - 11s 187us/step - loss: 0.0643 - acc: 0.9797 - val_loss: 0.0835 - val_acc: 0.9743\n",
      "Epoch 5/20\n",
      "60000/60000 [==============================] - 9s 150us/step - loss: 0.0515 - acc: 0.9839 - val_loss: 0.0794 - val_acc: 0.9767\n",
      "Epoch 6/20\n",
      "60000/60000 [==============================] - 9s 149us/step - loss: 0.0418 - acc: 0.9868 - val_loss: 0.0762 - val_acc: 0.9787\n",
      "Epoch 7/20\n",
      "60000/60000 [==============================] - 14s 231us/step - loss: 0.0336 - acc: 0.9894 - val_loss: 0.0834 - val_acc: 0.9758\n",
      "Epoch 8/20\n",
      "60000/60000 [==============================] - 14s 235us/step - loss: 0.0287 - acc: 0.9906 - val_loss: 0.0973 - val_acc: 0.9711\n",
      "Epoch 9/20\n",
      "60000/60000 [==============================] - 16s 268us/step - loss: 0.0251 - acc: 0.9920 - val_loss: 0.0793 - val_acc: 0.9773\n"
     ]
    }
   ],
   "source": [
    "model.compile(optimizer=\"adam\",\n",
    "              loss=\"categorical_crossentropy\",\n",
    "              metrics=[\"accuracy\"])\n",
    "hist_MNIST = model.fit(train_images, train_labels, epochs=20, batch_size=64,\n",
    "                       callbacks = callbacks_list,\n",
    "                       validation_data=(val_images, val_labels))"
   ]
  },
  {
   "cell_type": "markdown",
   "metadata": {},
   "source": [
    "We can load our optimal model and use it for prediction as follows:"
   ]
  },
  {
   "cell_type": "code",
   "execution_count": 6,
   "metadata": {},
   "outputs": [
    {
     "data": {
      "text/plain": [
       "array([[  5.52271729e-07,   2.02607815e-08,   1.72516559e-06,\n",
       "          1.85115478e-05,   7.65666003e-11,   9.02019863e-08,\n",
       "          1.40622661e-11,   9.99976993e-01,   2.05270680e-07,\n",
       "          1.96792871e-06],\n",
       "       [  5.22331726e-11,   2.22933821e-07,   9.99997258e-01,\n",
       "          1.74370825e-06,   9.01629845e-13,   4.81929358e-11,\n",
       "          1.73911274e-10,   2.25338465e-13,   8.66929554e-07,\n",
       "          3.24682874e-14]], dtype=float32)"
      ]
     },
     "execution_count": 6,
     "metadata": {},
     "output_type": "execute_result"
    }
   ],
   "source": [
    "from keras.models import load_model\n",
    "final_model = load_model(\"mymodel.h5\")\n",
    "final_model.predict(val_images[0:2,:])"
   ]
  }
 ],
 "metadata": {
  "kernelspec": {
   "display_name": "Python 2",
   "language": "python",
   "name": "python2"
  },
  "language_info": {
   "codemirror_mode": {
    "name": "ipython",
    "version": 2
   },
   "file_extension": ".py",
   "mimetype": "text/x-python",
   "name": "python",
   "nbconvert_exporter": "python",
   "pygments_lexer": "ipython2",
   "version": "2.7.12"
  }
 },
 "nbformat": 4,
 "nbformat_minor": 2
}
