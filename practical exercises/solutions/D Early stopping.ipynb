{
 "cells": [
  {
   "cell_type": "markdown",
   "metadata": {},
   "source": [
    "# Early stopping example on MNIST data"
   ]
  },
  {
   "cell_type": "markdown",
   "metadata": {},
   "source": [
    "First we load the MNIST data."
   ]
  },
  {
   "cell_type": "code",
   "execution_count": 1,
   "metadata": {},
   "outputs": [
    {
     "name": "stderr",
     "output_type": "stream",
     "text": [
      "Using TensorFlow backend.\n"
     ]
    }
   ],
   "source": [
    "from keras.datasets import mnist\n",
    "(train_images, train_labels), (val_images, val_labels) = mnist.load_data()"
   ]
  },
  {
   "cell_type": "markdown",
   "metadata": {},
   "source": [
    "We preprocess the data as in Chapter 6.5."
   ]
  },
  {
   "cell_type": "code",
   "execution_count": 2,
   "metadata": {},
   "outputs": [],
   "source": [
    "train_images = train_images.reshape((60000, 28 * 28))\n",
    "train_images = train_images.astype(\"float32\") / 255\n",
    "val_images = val_images.reshape((10000, 28 * 28))\n",
    "val_images = val_images.astype(\"float32\") / 255\n",
    "from keras.utils import to_categorical\n",
    "train_labels = to_categorical(train_labels)\n",
    "val_labels = to_categorical(val_labels)"
   ]
  },
  {
   "cell_type": "markdown",
   "metadata": {},
   "source": [
    "We set up the same model as Chapter 6.5."
   ]
  },
  {
   "cell_type": "code",
   "execution_count": 3,
   "metadata": {},
   "outputs": [
    {
     "name": "stdout",
     "output_type": "stream",
     "text": [
      "WARNING:tensorflow:From /home/dennis/.local/lib/python3.5/site-packages/tensorflow/python/framework/op_def_library.py:263: colocate_with (from tensorflow.python.framework.ops) is deprecated and will be removed in a future version.\n",
      "Instructions for updating:\n",
      "Colocations handled automatically by placer.\n"
     ]
    }
   ],
   "source": [
    "from keras import layers\n",
    "from keras import models\n",
    "model = models.Sequential()\n",
    "model.add(layers.Dense(128, activation=\"relu\", input_dim=28 * 28))\n",
    "model.add(layers.Dense(32, activation=\"relu\"))\n",
    "model.add(layers.Dense(10, activation=\"softmax\"))"
   ]
  },
  {
   "cell_type": "markdown",
   "metadata": {},
   "source": [
    "Now we initialise the callbacks required for early stopping."
   ]
  },
  {
   "cell_type": "code",
   "execution_count": 4,
   "metadata": {},
   "outputs": [],
   "source": [
    "from keras import callbacks\n",
    "callbacks_list = [\n",
    "    callbacks.EarlyStopping(monitor=\"val_loss\", patience=3),\n",
    "    callbacks.ModelCheckpoint(filepath=\"mymodel.h5\", monitor=\"val_loss\",\n",
    "        save_best_only=True)\n",
    "]"
   ]
  },
  {
   "cell_type": "markdown",
   "metadata": {},
   "source": [
    "Now we run the model using early stopping."
   ]
  },
  {
   "cell_type": "code",
   "execution_count": 5,
   "metadata": {},
   "outputs": [
    {
     "name": "stdout",
     "output_type": "stream",
     "text": [
      "WARNING:tensorflow:From /home/dennis/.local/lib/python3.5/site-packages/tensorflow/python/ops/math_ops.py:3066: to_int32 (from tensorflow.python.ops.math_ops) is deprecated and will be removed in a future version.\n",
      "Instructions for updating:\n",
      "Use tf.cast instead.\n",
      "Train on 60000 samples, validate on 10000 samples\n",
      "Epoch 1/20\n",
      "60000/60000 [==============================] - 3s 50us/step - loss: 0.2882 - acc: 0.9179 - val_loss: 0.1494 - val_acc: 0.9537\n",
      "Epoch 2/20\n",
      "60000/60000 [==============================] - 3s 47us/step - loss: 0.1178 - acc: 0.9654 - val_loss: 0.1066 - val_acc: 0.9672\n",
      "Epoch 3/20\n",
      "60000/60000 [==============================] - 3s 54us/step - loss: 0.0815 - acc: 0.9751 - val_loss: 0.0982 - val_acc: 0.9705\n",
      "Epoch 4/20\n",
      "60000/60000 [==============================] - 3s 57us/step - loss: 0.0618 - acc: 0.9814 - val_loss: 0.0909 - val_acc: 0.9724\n",
      "Epoch 5/20\n",
      "60000/60000 [==============================] - 3s 47us/step - loss: 0.0484 - acc: 0.9843 - val_loss: 0.0857 - val_acc: 0.9755\n",
      "Epoch 6/20\n",
      "60000/60000 [==============================] - 4s 60us/step - loss: 0.0385 - acc: 0.9875 - val_loss: 0.0750 - val_acc: 0.9764\n",
      "Epoch 7/20\n",
      "60000/60000 [==============================] - 3s 56us/step - loss: 0.0312 - acc: 0.9905 - val_loss: 0.0748 - val_acc: 0.9777\n",
      "Epoch 8/20\n",
      "60000/60000 [==============================] - 3s 57us/step - loss: 0.0260 - acc: 0.9913 - val_loss: 0.0758 - val_acc: 0.9774\n",
      "Epoch 9/20\n",
      "60000/60000 [==============================] - 3s 47us/step - loss: 0.0216 - acc: 0.9931 - val_loss: 0.0816 - val_acc: 0.9786\n",
      "Epoch 10/20\n",
      "60000/60000 [==============================] - 3s 47us/step - loss: 0.0197 - acc: 0.9941 - val_loss: 0.0851 - val_acc: 0.9758\n"
     ]
    }
   ],
   "source": [
    "model.compile(optimizer=\"adam\",\n",
    "              loss=\"categorical_crossentropy\",\n",
    "              metrics=[\"accuracy\"])\n",
    "hist_MNIST = model.fit(train_images, train_labels, epochs=20, batch_size=64,\n",
    "                       callbacks = callbacks_list,\n",
    "                       validation_data=(val_images, val_labels))"
   ]
  },
  {
   "cell_type": "markdown",
   "metadata": {},
   "source": [
    "We can load our optimal model and use it for prediction as follows:"
   ]
  },
  {
   "cell_type": "code",
   "execution_count": 6,
   "metadata": {},
   "outputs": [
    {
     "data": {
      "text/plain": [
       "array([[1.1208791e-05, 3.9576929e-07, 5.1955813e-05, 2.5260064e-04,\n",
       "        1.3371984e-10, 3.1532405e-08, 8.8002704e-12, 9.9959677e-01,\n",
       "        3.1356396e-07, 8.6693050e-05],\n",
       "       [1.2812493e-08, 1.1812105e-06, 9.9999690e-01, 1.2398214e-06,\n",
       "        7.5552899e-15, 2.3686269e-09, 7.5436145e-07, 6.9821888e-14,\n",
       "        1.9390784e-08, 2.8188596e-14]], dtype=float32)"
      ]
     },
     "execution_count": 6,
     "metadata": {},
     "output_type": "execute_result"
    }
   ],
   "source": [
    "from keras.models import load_model\n",
    "final_model = load_model(\"mymodel.h5\")\n",
    "final_model.predict(val_images[0:2,:])"
   ]
  }
 ],
 "metadata": {
  "kernelspec": {
   "display_name": "Python 2",
   "language": "python",
   "name": "python2"
  },
  "language_info": {
   "codemirror_mode": {
    "name": "ipython",
    "version": 3
   },
   "file_extension": ".py",
   "mimetype": "text/x-python",
   "name": "python",
   "nbconvert_exporter": "python",
   "pygments_lexer": "ipython3",
   "version": "3.5.2"
  }
 },
 "nbformat": 4,
 "nbformat_minor": 2
}
