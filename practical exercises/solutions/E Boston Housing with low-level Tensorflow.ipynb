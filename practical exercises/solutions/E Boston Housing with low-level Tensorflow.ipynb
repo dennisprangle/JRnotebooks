{
 "cells": [
  {
   "cell_type": "markdown",
   "metadata": {},
   "source": [
    "# Implementing a neural network in low-level tensorflow"
   ]
  },
  {
   "cell_type": "markdown",
   "metadata": {},
   "source": [
    "This notebook implements a simple multilayer perceptron for the Boston Housing data.\n",
    "\n",
    "First we create placeholder tensors for the inputs and output variables."
   ]
  },
  {
   "cell_type": "code",
   "execution_count": 1,
   "metadata": {},
   "outputs": [],
   "source": [
    "import tensorflow as tf\n",
    "x = tf.placeholder(dtype=tf.float32, shape=(None, 13))\n",
    "y = tf.placeholder(dtype=tf.float32, shape=(None, 1))"
   ]
  },
  {
   "cell_type": "markdown",
   "metadata": {},
   "source": [
    "Next we create a function which will perform a linear transformation of its input. This takes care of creating the variable tensors for the biases and weights. Tensorflow keeps track of all the variable tensors we create, so there is no need for us to store them in a data structure. We could store them if we particularly wanted to refer to them later e.g. to inspect their value or to use them in a penalisation variable. (An alternative method is to use (tensor names)[https://www.tensorflow.org/programmers_guide/variables].)"
   ]
  },
  {
   "cell_type": "code",
   "execution_count": 2,
   "metadata": {},
   "outputs": [],
   "source": [
    "def linear_transform(inputs, ninputs, noutputs):\n",
    "    bias = tf.Variable(tf.random_normal([1]))\n",
    "    weights = tf.Variable(tf.random_normal([ninputs, noutputs]))\n",
    "    return tf.matmul(inputs, weights) + bias"
   ]
  },
  {
   "cell_type": "markdown",
   "metadata": {},
   "source": [
    "Now we create out neural network. I'm using the tanh activation function for the intermediate layers as this small neural network is especially vulnerable to dead ReLUs. For the final layer I use a softplus activation function to ensure the output is positive."
   ]
  },
  {
   "cell_type": "code",
   "execution_count": 3,
   "metadata": {},
   "outputs": [],
   "source": [
    "sizes = [5, 3, 1]\n",
    "ninputs = 13\n",
    "layer1 = tf.nn.tanh(linear_transform(x, ninputs, sizes[0]))\n",
    "layer2 = tf.nn.tanh(linear_transform(layer1, sizes[0], sizes[1]))\n",
    "pred = tf.nn.softplus(linear_transform(layer2, sizes[1], sizes[2]))"
   ]
  },
  {
   "cell_type": "markdown",
   "metadata": {},
   "source": [
    "Note that `pred` ends up being a 2-dimensional tensor, although it has only 1 column."
   ]
  },
  {
   "cell_type": "code",
   "execution_count": 4,
   "metadata": {},
   "outputs": [
    {
     "name": "stdout",
     "output_type": "stream",
     "text": [
      "Tensor(\"Softplus:0\", shape=(?, 1), dtype=float32)\n"
     ]
    }
   ],
   "source": [
    "print pred"
   ]
  },
  {
   "cell_type": "markdown",
   "metadata": {},
   "source": [
    "We'll use mean squared error loss which can be implemented in Tensorflow as follows."
   ]
  },
  {
   "cell_type": "code",
   "execution_count": 5,
   "metadata": {},
   "outputs": [],
   "source": [
    "loss = tf.reduce_mean(tf.square(pred - y))"
   ]
  },
  {
   "cell_type": "markdown",
   "metadata": {},
   "source": [
    "Now we create optimiser and training operators."
   ]
  },
  {
   "cell_type": "code",
   "execution_count": 6,
   "metadata": {},
   "outputs": [],
   "source": [
    "optimiser = tf.train.AdamOptimizer()\n",
    "train = optimiser.minimize(loss)\n",
    "init = tf.global_variables_initializer()"
   ]
  },
  {
   "cell_type": "markdown",
   "metadata": {},
   "source": [
    "Next we start a Tensorflow session and initialise the variables."
   ]
  },
  {
   "cell_type": "code",
   "execution_count": 7,
   "metadata": {},
   "outputs": [],
   "source": [
    "sess = tf.Session()\n",
    "sess.run(init)"
   ]
  },
  {
   "cell_type": "markdown",
   "metadata": {},
   "source": [
    "Below we get the Boston Housing data, normalise it and reshape the outputs into 2-dimensional tensors (which are required because they must match our `pred` tensor which is 2-dimensional as noted above)."
   ]
  },
  {
   "cell_type": "code",
   "execution_count": 8,
   "metadata": {},
   "outputs": [
    {
     "name": "stderr",
     "output_type": "stream",
     "text": [
      "Using TensorFlow backend.\n"
     ]
    }
   ],
   "source": [
    "# Download data\n",
    "import numpy as np\n",
    "from keras.datasets import boston_housing\n",
    "(x_train, y_train), (x_val, y_val) = boston_housing.load_data()\n",
    "# Normalise data\n",
    "x_mean = np.std(x_train, 0)\n",
    "x_sd = np.std(x_train, 0)\n",
    "for i in xrange(13):\n",
    "    x_train[:,i] -= x_mean[i]\n",
    "    x_train[:,i] /= x_sd[i]\n",
    "    x_val[:,i] -= x_mean[i]\n",
    "    x_val[:,i] /= x_sd[i]\n",
    "# Reshape data\n",
    "y_train = y_train.reshape((404,1))\n",
    "y_val = y_val.reshape((102,1))"
   ]
  },
  {
   "cell_type": "markdown",
   "metadata": {},
   "source": [
    "Let's split the data into batches."
   ]
  },
  {
   "cell_type": "code",
   "execution_count": 9,
   "metadata": {},
   "outputs": [],
   "source": [
    "nbatches = 10\n",
    "xbatches = np.array_split(x_train, nbatches)\n",
    "ybatches = np.array_split(y_train, nbatches)"
   ]
  },
  {
   "cell_type": "markdown",
   "metadata": {},
   "source": [
    "Finally we can train the neural network."
   ]
  },
  {
   "cell_type": "code",
   "execution_count": 10,
   "metadata": {},
   "outputs": [
    {
     "name": "stdout",
     "output_type": "stream",
     "text": [
      "Epochs 250 Train loss 222.8 Validation loss 237.5\n",
      "Epochs 500 Train loss 105.5 Validation loss 111.5\n",
      "Epochs 750 Train loss 81.3 Validation loss 84.5\n",
      "Epochs 1000 Train loss 78.4 Validation loss 82.7\n",
      "Epochs 1250 Train loss 78.2 Validation loss 83.0\n",
      "Epochs 1500 Train loss 78.2 Validation loss 83.1\n",
      "Epochs 1750 Train loss 70.1 Validation loss 73.7\n",
      "Epochs 2000 Train loss 37.2 Validation loss 44.8\n",
      "Epochs 2250 Train loss 25.7 Validation loss 33.0\n",
      "Epochs 2500 Train loss 20.3 Validation loss 30.1\n",
      "Epochs 2750 Train loss 16.6 Validation loss 29.5\n",
      "Epochs 3000 Train loss 14.8 Validation loss 30.9\n",
      "Epochs 3250 Train loss 13.4 Validation loss 30.8\n",
      "Epochs 3500 Train loss 12.4 Validation loss 31.0\n",
      "Epochs 3750 Train loss 11.6 Validation loss 30.5\n",
      "Epochs 4000 Train loss 11.0 Validation loss 30.1\n",
      "Epochs 4250 Train loss 10.4 Validation loss 29.7\n",
      "Epochs 4500 Train loss 9.8 Validation loss 29.3\n",
      "Epochs 4750 Train loss 9.2 Validation loss 28.8\n"
     ]
    }
   ],
   "source": [
    "for e in range(1, 5000):\n",
    "  train_loss = 0.\n",
    "  for (x_,y_) in zip(xbatches, ybatches):\n",
    "      next_loss, _ = sess.run([loss, train], {x:x_, y:y_})\n",
    "      train_loss += next_loss\n",
    "  if e % 250 == 0:\n",
    "    train_loss /= nbatches\n",
    "    val_loss = sess.run(loss, {x:x_val, y:y_val})\n",
    "    print \"Epochs {:3d} Train loss {:.1f} Validation loss {:.1f}\".format(e, train_loss, val_loss)"
   ]
  },
  {
   "cell_type": "markdown",
   "metadata": {},
   "source": [
    "This run has achieved much better training loss than for linear regression and a similar validation loss - compare with Figure 2.1 of the notes. The difference between training and validation loss suggests significant overfitting. (On other training runs the evidence is even stronger due to a large validation loss!)\n",
    "\n",
    "Let's look at our predictions."
   ]
  },
  {
   "cell_type": "code",
   "execution_count": 11,
   "metadata": {},
   "outputs": [],
   "source": [
    "predictions_train = sess.run(pred, {x:x_train})\n",
    "predictions_val = sess.run(pred, {x:x_val})"
   ]
  },
  {
   "cell_type": "code",
   "execution_count": 12,
   "metadata": {},
   "outputs": [],
   "source": [
    "import matplotlib.pyplot as plt"
   ]
  },
  {
   "cell_type": "code",
   "execution_count": 13,
   "metadata": {
    "scrolled": true
   },
   "outputs": [
    {
     "data": {
      "text/plain": [
       "<matplotlib.legend.Legend at 0x7f96b3612d10>"
      ]
     },
     "execution_count": 13,
     "metadata": {},
     "output_type": "execute_result"
    },
    {
     "data": {
      "image/png": "[encoded data removed]",
      "text/plain": [
       "<matplotlib.figure.Figure at 0x7f96b36a9650>"
      ]
     },
     "metadata": {},
     "output_type": "display_data"
    }
   ],
   "source": [
    "plt.plot(y_train, predictions_train, \"bo\", label=\"train\")\n",
    "plt.plot(y_val, predictions_val, \"ro\", label=\"validation\")\n",
    "plt.legend()"
   ]
  },
  {
   "cell_type": "markdown",
   "metadata": {},
   "source": [
    "The training predictions look significantly improved compared to the linear regression values in Figure 2.2. One improvement is that we've prevented any negative predictions by using a softplus activation. Another is that house values close to 50 are no longer badly underestimated.\n",
    "\n",
    "On the other hand the validation predictions contain several outlying predictions corroborating the earlier suspicion of overfitting. Regularisation of some sort would probably improve validation loss.\n",
    "\n",
    "This example illustrates that neural networks can improve on linear regression even for small datasets. However the major benefits are for big datasets!"
   ]
  }
 ],
 "metadata": {
  "kernelspec": {
   "display_name": "Python 2",
   "language": "python",
   "name": "python2"
  },
  "language_info": {
   "codemirror_mode": {
    "name": "ipython",
    "version": 2
   },
   "file_extension": ".py",
   "mimetype": "text/x-python",
   "name": "python",
   "nbconvert_exporter": "python",
   "pygments_lexer": "ipython2",
   "version": "2.7.12"
  }
 },
 "nbformat": 4,
 "nbformat_minor": 2
}
