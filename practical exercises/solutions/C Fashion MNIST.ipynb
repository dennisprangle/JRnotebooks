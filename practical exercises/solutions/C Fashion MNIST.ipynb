{
 "cells": [
  {
   "cell_type": "markdown",
   "metadata": {},
   "source": [
    "# Fashion MNIST example illustrating different optimisers"
   ]
  },
  {
   "cell_type": "markdown",
   "metadata": {},
   "source": [
    "Load the fashion MNIST data."
   ]
  },
  {
   "cell_type": "code",
   "execution_count": 1,
   "metadata": {},
   "outputs": [
    {
     "name": "stderr",
     "output_type": "stream",
     "text": [
      "Using TensorFlow backend.\n"
     ]
    }
   ],
   "source": [
    "from keras.datasets import fashion_mnist\n",
    "(train_images, train_labels), (val_images, val_labels) = fashion_mnist.load_data()"
   ]
  },
  {
   "cell_type": "markdown",
   "metadata": {},
   "source": [
    "Show a sample image"
   ]
  },
  {
   "cell_type": "code",
   "execution_count": 2,
   "metadata": {},
   "outputs": [],
   "source": [
    "from matplotlib import pyplot as plt"
   ]
  },
  {
   "cell_type": "code",
   "execution_count": 3,
   "metadata": {},
   "outputs": [
    {
     "data": {
      "image/png": "[encoded data removed]",
      "text/plain": [
       "<matplotlib.figure.Figure at 0x7feddb455a10>"
      ]
     },
     "metadata": {},
     "output_type": "display_data"
    }
   ],
   "source": [
    "plt.imshow(train_images[0,:,:])\n",
    "plt.colorbar()\n",
    "plt.show()"
   ]
  },
  {
   "cell_type": "code",
   "execution_count": 4,
   "metadata": {},
   "outputs": [],
   "source": [
    "train_images = train_images.reshape((60000, 28 * 28))\n",
    "train_images = train_images.astype(\"float32\") / 255\n",
    "val_images = val_images.reshape((10000, 28 * 28))\n",
    "val_images = val_images.astype(\"float32\") / 255\n",
    "from keras.utils import to_categorical\n",
    "train_labels = to_categorical(train_labels)\n",
    "val_labels = to_categorical(val_labels)"
   ]
  },
  {
   "cell_type": "markdown",
   "metadata": {},
   "source": [
    "In this example we're going to concentrate on training loss. But I've included some validation data as it's still interesting to look at the overall performance of the algorithm."
   ]
  },
  {
   "cell_type": "markdown",
   "metadata": {},
   "source": [
    "## Create neural network"
   ]
  },
  {
   "cell_type": "code",
   "execution_count": 5,
   "metadata": {},
   "outputs": [],
   "source": [
    "from keras import layers\n",
    "from keras import models\n",
    "from keras import optimizers\n",
    "model = models.Sequential()\n",
    "model.add(layers.Dense(128, activation=\"relu\", input_shape=(28 * 28,)))\n",
    "model.add(layers.Dense(32, activation=\"relu\"))\n",
    "model.add(layers.Dense(10, activation=\"softmax\"))"
   ]
  },
  {
   "cell_type": "code",
   "execution_count": 6,
   "metadata": {},
   "outputs": [
    {
     "name": "stdout",
     "output_type": "stream",
     "text": [
      "_________________________________________________________________\n",
      "Layer (type)                 Output Shape              Param #   \n",
      "=================================================================\n",
      "dense_1 (Dense)              (None, 128)               100480    \n",
      "_________________________________________________________________\n",
      "dense_2 (Dense)              (None, 32)                4128      \n",
      "_________________________________________________________________\n",
      "dense_3 (Dense)              (None, 10)                330       \n",
      "=================================================================\n",
      "Total params: 104,938\n",
      "Trainable params: 104,938\n",
      "Non-trainable params: 0\n",
      "_________________________________________________________________\n"
     ]
    }
   ],
   "source": [
    "model.summary()"
   ]
  },
  {
   "cell_type": "markdown",
   "metadata": {},
   "source": [
    "Save the initial weights so they can be used with various optimisers."
   ]
  },
  {
   "cell_type": "code",
   "execution_count": 7,
   "metadata": {},
   "outputs": [],
   "source": [
    "weights0 = model.get_weights()"
   ]
  },
  {
   "cell_type": "markdown",
   "metadata": {},
   "source": [
    "## Compare optimisers"
   ]
  },
  {
   "cell_type": "markdown",
   "metadata": {},
   "source": [
    "### Adam optimiser"
   ]
  },
  {
   "cell_type": "code",
   "execution_count": 8,
   "metadata": {},
   "outputs": [
    {
     "name": "stdout",
     "output_type": "stream",
     "text": [
      "Train on 60000 samples, validate on 10000 samples\n",
      "Epoch 1/20\n",
      "60000/60000 [==============================] - 8s 127us/step - loss: 0.5062 - acc: 0.8201 - val_loss: 0.4221 - val_acc: 0.8475\n",
      "Epoch 2/20\n",
      "60000/60000 [==============================] - 9s 151us/step - loss: 0.3735 - acc: 0.8628 - val_loss: 0.3867 - val_acc: 0.8606\n",
      "Epoch 3/20\n",
      "60000/60000 [==============================] - 12s 202us/step - loss: 0.3373 - acc: 0.8766 - val_loss: 0.3752 - val_acc: 0.8630\n",
      "Epoch 4/20\n",
      "60000/60000 [==============================] - 17s 290us/step - loss: 0.3149 - acc: 0.8835 - val_loss: 0.3689 - val_acc: 0.8718\n",
      "Epoch 5/20\n",
      "60000/60000 [==============================] - 16s 266us/step - loss: 0.2963 - acc: 0.8911 - val_loss: 0.3450 - val_acc: 0.8728\n",
      "Epoch 6/20\n",
      "60000/60000 [==============================] - 26s 434us/step - loss: 0.2834 - acc: 0.8944 - val_loss: 0.3428 - val_acc: 0.8788\n",
      "Epoch 7/20\n",
      "60000/60000 [==============================] - 24s 398us/step - loss: 0.2706 - acc: 0.8998 - val_loss: 0.3438 - val_acc: 0.8795\n",
      "Epoch 8/20\n",
      "60000/60000 [==============================] - 21s 358us/step - loss: 0.2615 - acc: 0.9016 - val_loss: 0.3427 - val_acc: 0.8769\n",
      "Epoch 9/20\n",
      "60000/60000 [==============================] - 16s 273us/step - loss: 0.2513 - acc: 0.9058 - val_loss: 0.3316 - val_acc: 0.8827\n",
      "Epoch 10/20\n",
      "60000/60000 [==============================] - 15s 252us/step - loss: 0.2441 - acc: 0.9078 - val_loss: 0.3440 - val_acc: 0.8800\n",
      "Epoch 11/20\n",
      "60000/60000 [==============================] - 15s 252us/step - loss: 0.2368 - acc: 0.9114 - val_loss: 0.3465 - val_acc: 0.8780\n",
      "Epoch 12/20\n",
      "60000/60000 [==============================] - 16s 259us/step - loss: 0.2285 - acc: 0.9143 - val_loss: 0.3441 - val_acc: 0.8849\n",
      "Epoch 13/20\n",
      "60000/60000 [==============================] - 15s 243us/step - loss: 0.2238 - acc: 0.9157 - val_loss: 0.3264 - val_acc: 0.8881\n",
      "Epoch 14/20\n",
      "60000/60000 [==============================] - 15s 249us/step - loss: 0.2166 - acc: 0.9192 - val_loss: 0.3465 - val_acc: 0.8847\n",
      "Epoch 15/20\n",
      "60000/60000 [==============================] - 15s 244us/step - loss: 0.2119 - acc: 0.9198 - val_loss: 0.3440 - val_acc: 0.8856\n",
      "Epoch 16/20\n",
      "60000/60000 [==============================] - 15s 246us/step - loss: 0.2053 - acc: 0.9218 - val_loss: 0.3509 - val_acc: 0.8848\n",
      "Epoch 17/20\n",
      "60000/60000 [==============================] - 15s 254us/step - loss: 0.2020 - acc: 0.9233 - val_loss: 0.3339 - val_acc: 0.8912\n",
      "Epoch 18/20\n",
      "60000/60000 [==============================] - 15s 257us/step - loss: 0.1949 - acc: 0.9265 - val_loss: 0.3359 - val_acc: 0.8884\n",
      "Epoch 19/20\n",
      "60000/60000 [==============================] - 14s 235us/step - loss: 0.1900 - acc: 0.9273 - val_loss: 0.3339 - val_acc: 0.8904\n",
      "Epoch 20/20\n",
      "60000/60000 [==============================] - 15s 255us/step - loss: 0.1855 - acc: 0.9290 - val_loss: 0.3602 - val_acc: 0.8808\n"
     ]
    }
   ],
   "source": [
    "model.set_weights(weights0)\n",
    "model.compile(optimizer=\"adam\",\n",
    "              loss=\"categorical_crossentropy\",\n",
    "              metrics=[\"accuracy\"])\n",
    "hist_Adam = model.fit(train_images, train_labels, epochs=20,\n",
    "                      validation_data=(val_images, val_labels))"
   ]
  },
  {
   "cell_type": "markdown",
   "metadata": {},
   "source": [
    "### RMSProp optimiser"
   ]
  },
  {
   "cell_type": "code",
   "execution_count": 9,
   "metadata": {},
   "outputs": [
    {
     "name": "stdout",
     "output_type": "stream",
     "text": [
      "Train on 60000 samples, validate on 10000 samples\n",
      "Epoch 1/20\n",
      "60000/60000 [==============================] - 16s 259us/step - loss: 0.5155 - acc: 0.8159 - val_loss: 0.4473 - val_acc: 0.8325\n",
      "Epoch 2/20\n",
      "60000/60000 [==============================] - 7s 111us/step - loss: 0.3789 - acc: 0.8630 - val_loss: 0.4015 - val_acc: 0.8550\n",
      "Epoch 3/20\n",
      "60000/60000 [==============================] - 6s 93us/step - loss: 0.3468 - acc: 0.8757 - val_loss: 0.3787 - val_acc: 0.8660\n",
      "Epoch 4/20\n",
      "60000/60000 [==============================] - 6s 94us/step - loss: 0.3292 - acc: 0.8812 - val_loss: 0.3727 - val_acc: 0.8676\n",
      "Epoch 5/20\n",
      "60000/60000 [==============================] - 6s 104us/step - loss: 0.3172 - acc: 0.8858 - val_loss: 0.3726 - val_acc: 0.8655\n",
      "Epoch 6/20\n",
      "60000/60000 [==============================] - 6s 106us/step - loss: 0.3088 - acc: 0.8879 - val_loss: 0.3584 - val_acc: 0.8713\n",
      "Epoch 7/20\n",
      "60000/60000 [==============================] - 7s 118us/step - loss: 0.3013 - acc: 0.8907 - val_loss: 0.3622 - val_acc: 0.8716\n",
      "Epoch 8/20\n",
      "60000/60000 [==============================] - 7s 113us/step - loss: 0.2964 - acc: 0.8927 - val_loss: 0.3534 - val_acc: 0.8745\n",
      "Epoch 9/20\n",
      "60000/60000 [==============================] - 6s 98us/step - loss: 0.2924 - acc: 0.8952 - val_loss: 0.3509 - val_acc: 0.8747\n",
      "Epoch 10/20\n",
      "60000/60000 [==============================] - 6s 95us/step - loss: 0.2880 - acc: 0.8961 - val_loss: 0.3504 - val_acc: 0.8744\n",
      "Epoch 11/20\n",
      "60000/60000 [==============================] - 6s 100us/step - loss: 0.2848 - acc: 0.8971 - val_loss: 0.3502 - val_acc: 0.8736\n",
      "Epoch 12/20\n",
      "60000/60000 [==============================] - 7s 108us/step - loss: 0.2819 - acc: 0.8983 - val_loss: 0.3497 - val_acc: 0.8768\n",
      "Epoch 13/20\n",
      "60000/60000 [==============================] - 6s 99us/step - loss: 0.2795 - acc: 0.8987 - val_loss: 0.3467 - val_acc: 0.8764\n",
      "Epoch 14/20\n",
      "60000/60000 [==============================] - 6s 98us/step - loss: 0.2769 - acc: 0.9002 - val_loss: 0.3482 - val_acc: 0.8775\n",
      "Epoch 15/20\n",
      "60000/60000 [==============================] - 6s 94us/step - loss: 0.2750 - acc: 0.9012 - val_loss: 0.3446 - val_acc: 0.8785\n",
      "Epoch 16/20\n",
      "60000/60000 [==============================] - 6s 104us/step - loss: 0.2732 - acc: 0.9015 - val_loss: 0.3436 - val_acc: 0.8805\n",
      "Epoch 17/20\n",
      "60000/60000 [==============================] - 6s 92us/step - loss: 0.2715 - acc: 0.9021 - val_loss: 0.3431 - val_acc: 0.8775\n",
      "Epoch 18/20\n",
      "60000/60000 [==============================] - 6s 99us/step - loss: 0.2697 - acc: 0.9035 - val_loss: 0.3425 - val_acc: 0.8784\n",
      "Epoch 19/20\n",
      "60000/60000 [==============================] - 6s 95us/step - loss: 0.2683 - acc: 0.9035 - val_loss: 0.3414 - val_acc: 0.8783\n",
      "Epoch 20/20\n",
      "60000/60000 [==============================] - 6s 97us/step - loss: 0.2669 - acc: 0.9047 - val_loss: 0.3414 - val_acc: 0.8820\n"
     ]
    }
   ],
   "source": [
    "rms = optimizers.RMSprop(decay=0.001) # nb decay>0 required for convergence guarantee\n",
    "model.set_weights(weights0)\n",
    "model.compile(optimizer=rms,\n",
    "              loss=\"categorical_crossentropy\",\n",
    "              metrics=[\"accuracy\"])\n",
    "hist_RMSprop = model.fit(train_images, train_labels, epochs=20,\n",
    "                         validation_data=(val_images, val_labels))"
   ]
  },
  {
   "cell_type": "markdown",
   "metadata": {},
   "source": [
    "### SGD optimiser"
   ]
  },
  {
   "cell_type": "code",
   "execution_count": 10,
   "metadata": {},
   "outputs": [
    {
     "name": "stdout",
     "output_type": "stream",
     "text": [
      "Train on 60000 samples, validate on 10000 samples\n",
      "Epoch 1/20\n",
      "60000/60000 [==============================] - 5s 80us/step - loss: 0.5909 - acc: 0.7787 - val_loss: 0.4841 - val_acc: 0.8223\n",
      "Epoch 2/20\n",
      "60000/60000 [==============================] - 5s 79us/step - loss: 0.4215 - acc: 0.8443 - val_loss: 0.4576 - val_acc: 0.8327\n",
      "Epoch 3/20\n",
      "60000/60000 [==============================] - 5s 79us/step - loss: 0.3819 - acc: 0.8573 - val_loss: 0.3964 - val_acc: 0.8559\n",
      "Epoch 4/20\n",
      "60000/60000 [==============================] - 5s 79us/step - loss: 0.3624 - acc: 0.8639 - val_loss: 0.4002 - val_acc: 0.8578\n",
      "Epoch 5/20\n",
      "60000/60000 [==============================] - 5s 77us/step - loss: 0.3452 - acc: 0.8720 - val_loss: 0.3892 - val_acc: 0.8647\n",
      "Epoch 6/20\n",
      "60000/60000 [==============================] - 5s 76us/step - loss: 0.3311 - acc: 0.8763 - val_loss: 0.3913 - val_acc: 0.8622\n",
      "Epoch 7/20\n",
      "60000/60000 [==============================] - 5s 77us/step - loss: 0.3200 - acc: 0.8802 - val_loss: 0.3886 - val_acc: 0.8612\n",
      "Epoch 8/20\n",
      "60000/60000 [==============================] - 5s 77us/step - loss: 0.3123 - acc: 0.8822 - val_loss: 0.3884 - val_acc: 0.8649\n",
      "Epoch 9/20\n",
      "60000/60000 [==============================] - 5s 79us/step - loss: 0.3063 - acc: 0.8851 - val_loss: 0.3810 - val_acc: 0.8634\n",
      "Epoch 10/20\n",
      "60000/60000 [==============================] - 5s 80us/step - loss: 0.3000 - acc: 0.8867 - val_loss: 0.3960 - val_acc: 0.8507\n",
      "Epoch 11/20\n",
      "60000/60000 [==============================] - 5s 89us/step - loss: 0.2907 - acc: 0.8900 - val_loss: 0.3807 - val_acc: 0.8668\n",
      "Epoch 12/20\n",
      "60000/60000 [==============================] - 5s 78us/step - loss: 0.2839 - acc: 0.8941 - val_loss: 0.3771 - val_acc: 0.8699\n",
      "Epoch 13/20\n",
      "60000/60000 [==============================] - 5s 82us/step - loss: 0.2819 - acc: 0.8951 - val_loss: 0.3708 - val_acc: 0.8699\n",
      "Epoch 14/20\n",
      "60000/60000 [==============================] - 5s 77us/step - loss: 0.2748 - acc: 0.8970 - val_loss: 0.3683 - val_acc: 0.8732\n",
      "Epoch 15/20\n",
      "60000/60000 [==============================] - 5s 79us/step - loss: 0.2681 - acc: 0.8989 - val_loss: 0.3672 - val_acc: 0.8722\n",
      "Epoch 16/20\n",
      "60000/60000 [==============================] - 5s 81us/step - loss: 0.2662 - acc: 0.8992 - val_loss: 0.3780 - val_acc: 0.8697\n",
      "Epoch 17/20\n",
      "60000/60000 [==============================] - 5s 75us/step - loss: 0.2639 - acc: 0.9011 - val_loss: 0.3584 - val_acc: 0.8817\n",
      "Epoch 18/20\n",
      "60000/60000 [==============================] - 5s 76us/step - loss: 0.2622 - acc: 0.9014 - val_loss: 0.4127 - val_acc: 0.8640\n",
      "Epoch 19/20\n",
      "60000/60000 [==============================] - 5s 83us/step - loss: 0.2559 - acc: 0.9036 - val_loss: 0.4794 - val_acc: 0.8318\n",
      "Epoch 20/20\n",
      "60000/60000 [==============================] - 5s 80us/step - loss: 0.2521 - acc: 0.9052 - val_loss: 0.3844 - val_acc: 0.8749\n"
     ]
    }
   ],
   "source": [
    "sgd = optimizers.SGD(lr=0.3)\n",
    "model.set_weights(weights0)\n",
    "model.compile(optimizer=sgd,\n",
    "              loss=\"categorical_crossentropy\",\n",
    "              metrics=[\"accuracy\"])\n",
    "hist_SGD = model.fit(train_images, train_labels, epochs=20,\n",
    "                     validation_data=(val_images, val_labels))"
   ]
  },
  {
   "cell_type": "markdown",
   "metadata": {},
   "source": [
    "### SGD with weight decay"
   ]
  },
  {
   "cell_type": "code",
   "execution_count": 11,
   "metadata": {},
   "outputs": [
    {
     "name": "stdout",
     "output_type": "stream",
     "text": [
      "Train on 60000 samples, validate on 10000 samples\n",
      "Epoch 1/20\n",
      "60000/60000 [==============================] - 5s 86us/step - loss: 0.5503 - acc: 0.7963 - val_loss: 0.4521 - val_acc: 0.8392\n",
      "Epoch 2/20\n",
      "60000/60000 [==============================] - 6s 92us/step - loss: 0.3755 - acc: 0.8623 - val_loss: 0.4217 - val_acc: 0.8462\n",
      "Epoch 3/20\n",
      "60000/60000 [==============================] - 5s 83us/step - loss: 0.3391 - acc: 0.8754 - val_loss: 0.3770 - val_acc: 0.8597\n",
      "Epoch 4/20\n",
      "60000/60000 [==============================] - 6s 94us/step - loss: 0.3186 - acc: 0.8815 - val_loss: 0.3675 - val_acc: 0.8682\n",
      "Epoch 5/20\n",
      "60000/60000 [==============================] - 5s 91us/step - loss: 0.3042 - acc: 0.8870 - val_loss: 0.3497 - val_acc: 0.8730\n",
      "Epoch 6/20\n",
      "60000/60000 [==============================] - 5s 84us/step - loss: 0.2935 - acc: 0.8917 - val_loss: 0.3521 - val_acc: 0.8762\n",
      "Epoch 7/20\n",
      "60000/60000 [==============================] - 5s 81us/step - loss: 0.2852 - acc: 0.8939 - val_loss: 0.3439 - val_acc: 0.8766\n",
      "Epoch 8/20\n",
      "60000/60000 [==============================] - 5s 79us/step - loss: 0.2784 - acc: 0.8962 - val_loss: 0.3433 - val_acc: 0.8784\n",
      "Epoch 9/20\n",
      "60000/60000 [==============================] - 5s 77us/step - loss: 0.2733 - acc: 0.8993 - val_loss: 0.3410 - val_acc: 0.8779\n",
      "Epoch 10/20\n",
      "60000/60000 [==============================] - 5s 85us/step - loss: 0.2681 - acc: 0.9010 - val_loss: 0.3387 - val_acc: 0.8767\n",
      "Epoch 11/20\n",
      "60000/60000 [==============================] - 5s 87us/step - loss: 0.2634 - acc: 0.9023 - val_loss: 0.3362 - val_acc: 0.8802\n",
      "Epoch 12/20\n",
      "60000/60000 [==============================] - 5s 82us/step - loss: 0.2592 - acc: 0.9039 - val_loss: 0.3360 - val_acc: 0.8810\n",
      "Epoch 13/20\n",
      "60000/60000 [==============================] - 5s 82us/step - loss: 0.2555 - acc: 0.9053 - val_loss: 0.3376 - val_acc: 0.8805\n",
      "Epoch 14/20\n",
      "60000/60000 [==============================] - 5s 81us/step - loss: 0.2523 - acc: 0.9068 - val_loss: 0.3312 - val_acc: 0.8807\n",
      "Epoch 15/20\n",
      "60000/60000 [==============================] - 5s 91us/step - loss: 0.2494 - acc: 0.9084 - val_loss: 0.3343 - val_acc: 0.8800\n",
      "Epoch 16/20\n",
      "60000/60000 [==============================] - 5s 80us/step - loss: 0.2467 - acc: 0.9097 - val_loss: 0.3337 - val_acc: 0.8812\n",
      "Epoch 17/20\n",
      "60000/60000 [==============================] - 5s 79us/step - loss: 0.2442 - acc: 0.9104 - val_loss: 0.3340 - val_acc: 0.8816\n",
      "Epoch 18/20\n",
      "60000/60000 [==============================] - 5s 85us/step - loss: 0.2416 - acc: 0.9112 - val_loss: 0.3273 - val_acc: 0.8844\n",
      "Epoch 19/20\n",
      "60000/60000 [==============================] - 5s 78us/step - loss: 0.2392 - acc: 0.9122 - val_loss: 0.3307 - val_acc: 0.8834\n",
      "Epoch 20/20\n",
      "60000/60000 [==============================] - 5s 81us/step - loss: 0.2372 - acc: 0.9123 - val_loss: 0.3287 - val_acc: 0.8838\n"
     ]
    }
   ],
   "source": [
    "sgd2 = optimizers.SGD(lr=0.3, decay=0.001)\n",
    "model.set_weights(weights0)\n",
    "model.compile(optimizer=sgd2,\n",
    "              loss=\"categorical_crossentropy\",\n",
    "              metrics=[\"accuracy\"])\n",
    "hist_SGD2 = model.fit(train_images, train_labels, epochs=20,\n",
    "                     validation_data=(val_images, val_labels))"
   ]
  },
  {
   "cell_type": "markdown",
   "metadata": {},
   "source": [
    "## Plot results"
   ]
  },
  {
   "cell_type": "code",
   "execution_count": 12,
   "metadata": {},
   "outputs": [],
   "source": [
    "import matplotlib.pyplot as plt"
   ]
  },
  {
   "cell_type": "code",
   "execution_count": 13,
   "metadata": {},
   "outputs": [
    {
     "data": {
      "text/plain": [
       "<matplotlib.legend.Legend at 0x7fedc1fb0150>"
      ]
     },
     "execution_count": 13,
     "metadata": {},
     "output_type": "execute_result"
    },
    {
     "data": {
      "image/png": "[encoded data removed]",
      "text/plain": [
       "<matplotlib.figure.Figure at 0x7fedc1fd83d0>"
      ]
     },
     "metadata": {},
     "output_type": "display_data"
    }
   ],
   "source": [
    "methods = [\"adam\", \"sgd (const)\", \"sgd (decay)\", \"RMSprop\"]\n",
    "outputs = [hist_Adam, hist_SGD, hist_SGD2, hist_RMSprop]\n",
    "losses = [x.history[\"loss\"] for x in outputs]\n",
    "epochs = range(0, 20)\n",
    "for m,l in zip(methods, losses):\n",
    "   plt.plot(epochs, l, \"-\", label=m)\n",
    "plt.legend()"
   ]
  },
  {
   "cell_type": "markdown",
   "metadata": {},
   "source": [
    "Here Adam outperforms both SGD algorithms in later epochs, presumably because it has tuned its learning rate well and/or because it uses different rates for different weights. However RMSprop (another adaptive optmiser) does not perform as well as constant rate SGD. Also, note that the SGD algorithm with decay has a smoother path than constant SGD. This is because its learning rate reduces in later epochs, making it more robust to random variation of gradients.\n",
    "\n",
    "Which optimiser works best will vary depending on the problem, and constant rate SGD can sometimes be surprisingly competitive with more sophisticated methods.\n",
    "\n",
    "A big practical advantage of the Adam optimiser is that it usually works well \"out of the box\" with no need to change its tuning parameters from the defaults. All the other methods here required some parameter tuning to get reasonable performance."
   ]
  }
 ],
 "metadata": {
  "kernelspec": {
   "display_name": "Python 2",
   "language": "python",
   "name": "python2"
  },
  "language_info": {
   "codemirror_mode": {
    "name": "ipython",
    "version": 2
   },
   "file_extension": ".py",
   "mimetype": "text/x-python",
   "name": "python",
   "nbconvert_exporter": "python",
   "pygments_lexer": "ipython2",
   "version": "2.7.12"
  }
 },
 "nbformat": 4,
 "nbformat_minor": 2
}
