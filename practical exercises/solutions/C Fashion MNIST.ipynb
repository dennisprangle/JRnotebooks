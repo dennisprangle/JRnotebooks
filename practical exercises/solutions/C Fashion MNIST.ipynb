{
 "cells": [
  {
   "cell_type": "markdown",
   "metadata": {},
   "source": [
    "# Fashion MNIST example illustrating different optimisers"
   ]
  },
  {
   "cell_type": "markdown",
   "metadata": {},
   "source": [
    "Load the fashion MNIST data."
   ]
  },
  {
   "cell_type": "code",
   "execution_count": 1,
   "metadata": {},
   "outputs": [
    {
     "name": "stderr",
     "output_type": "stream",
     "text": [
      "Using TensorFlow backend.\n"
     ]
    }
   ],
   "source": [
    "from keras.datasets import fashion_mnist\n",
    "(train_images, train_labels), (val_images, val_labels) = fashion_mnist.load_data()"
   ]
  },
  {
   "cell_type": "markdown",
   "metadata": {},
   "source": [
    "Show a sample image"
   ]
  },
  {
   "cell_type": "code",
   "execution_count": 2,
   "metadata": {},
   "outputs": [],
   "source": [
    "from matplotlib import pyplot as plt"
   ]
  },
  {
   "cell_type": "code",
   "execution_count": 3,
   "metadata": {},
   "outputs": [
    {
     "data": {
      "image/png": "[encoded data removed]",
      "text/plain": [
       "<Figure size 432x288 with 2 Axes>"
      ]
     },
     "metadata": {},
     "output_type": "display_data"
    }
   ],
   "source": [
    "plt.imshow(train_images[0,:,:])\n",
    "plt.colorbar()\n",
    "plt.show()"
   ]
  },
  {
   "cell_type": "code",
   "execution_count": 4,
   "metadata": {},
   "outputs": [],
   "source": [
    "train_images = train_images.reshape((60000, 28 * 28))\n",
    "train_images = train_images.astype(\"float32\") / 255\n",
    "val_images = val_images.reshape((10000, 28 * 28))\n",
    "val_images = val_images.astype(\"float32\") / 255\n",
    "from keras.utils import to_categorical\n",
    "train_labels = to_categorical(train_labels)\n",
    "val_labels = to_categorical(val_labels)"
   ]
  },
  {
   "cell_type": "markdown",
   "metadata": {},
   "source": [
    "In this example we're going to concentrate on training loss. But I've included some validation data as it's still interesting to look at the overall performance of the algorithm."
   ]
  },
  {
   "cell_type": "markdown",
   "metadata": {},
   "source": [
    "## Create neural network"
   ]
  },
  {
   "cell_type": "code",
   "execution_count": 5,
   "metadata": {},
   "outputs": [
    {
     "name": "stdout",
     "output_type": "stream",
     "text": [
      "WARNING:tensorflow:From /home/dennis/.local/lib/python3.5/site-packages/tensorflow/python/framework/op_def_library.py:263: colocate_with (from tensorflow.python.framework.ops) is deprecated and will be removed in a future version.\n",
      "Instructions for updating:\n",
      "Colocations handled automatically by placer.\n"
     ]
    }
   ],
   "source": [
    "from keras import layers\n",
    "from keras import models\n",
    "from keras import optimizers\n",
    "model = models.Sequential()\n",
    "model.add(layers.Dense(128, activation=\"relu\", input_dim=28 * 28))\n",
    "model.add(layers.Dense(32, activation=\"relu\"))\n",
    "model.add(layers.Dense(10, activation=\"softmax\"))"
   ]
  },
  {
   "cell_type": "code",
   "execution_count": 6,
   "metadata": {},
   "outputs": [
    {
     "name": "stdout",
     "output_type": "stream",
     "text": [
      "_________________________________________________________________\n",
      "Layer (type)                 Output Shape              Param #   \n",
      "=================================================================\n",
      "dense_1 (Dense)              (None, 128)               100480    \n",
      "_________________________________________________________________\n",
      "dense_2 (Dense)              (None, 32)                4128      \n",
      "_________________________________________________________________\n",
      "dense_3 (Dense)              (None, 10)                330       \n",
      "=================================================================\n",
      "Total params: 104,938\n",
      "Trainable params: 104,938\n",
      "Non-trainable params: 0\n",
      "_________________________________________________________________\n"
     ]
    }
   ],
   "source": [
    "model.summary()"
   ]
  },
  {
   "cell_type": "markdown",
   "metadata": {},
   "source": [
    "Save the initial weights so they can be used with various optimisers."
   ]
  },
  {
   "cell_type": "code",
   "execution_count": 7,
   "metadata": {},
   "outputs": [],
   "source": [
    "weights0 = model.get_weights()"
   ]
  },
  {
   "cell_type": "markdown",
   "metadata": {},
   "source": [
    "## Compare optimisers"
   ]
  },
  {
   "cell_type": "markdown",
   "metadata": {},
   "source": [
    "### Adam optimiser"
   ]
  },
  {
   "cell_type": "code",
   "execution_count": 8,
   "metadata": {},
   "outputs": [
    {
     "name": "stdout",
     "output_type": "stream",
     "text": [
      "WARNING:tensorflow:From /home/dennis/.local/lib/python3.5/site-packages/tensorflow/python/ops/math_ops.py:3066: to_int32 (from tensorflow.python.ops.math_ops) is deprecated and will be removed in a future version.\n",
      "Instructions for updating:\n",
      "Use tf.cast instead.\n",
      "Train on 60000 samples, validate on 10000 samples\n",
      "Epoch 1/20\n",
      "60000/60000 [==============================] - 6s 93us/step - loss: 0.5074 - acc: 0.8207 - val_loss: 0.4303 - val_acc: 0.8412\n",
      "Epoch 2/20\n",
      "60000/60000 [==============================] - 5s 86us/step - loss: 0.3743 - acc: 0.8644 - val_loss: 0.3881 - val_acc: 0.8609\n",
      "Epoch 3/20\n",
      "60000/60000 [==============================] - 5s 86us/step - loss: 0.3386 - acc: 0.8753 - val_loss: 0.3962 - val_acc: 0.8570\n",
      "Epoch 4/20\n",
      "60000/60000 [==============================] - 5s 87us/step - loss: 0.3126 - acc: 0.8845 - val_loss: 0.3617 - val_acc: 0.8727\n",
      "Epoch 5/20\n",
      "60000/60000 [==============================] - 5s 87us/step - loss: 0.2985 - acc: 0.8889 - val_loss: 0.3617 - val_acc: 0.8661\n",
      "Epoch 6/20\n",
      "60000/60000 [==============================] - 5s 88us/step - loss: 0.2860 - acc: 0.8932 - val_loss: 0.3394 - val_acc: 0.8797\n",
      "Epoch 7/20\n",
      "60000/60000 [==============================] - 5s 88us/step - loss: 0.2719 - acc: 0.8998 - val_loss: 0.3524 - val_acc: 0.8718\n",
      "Epoch 8/20\n",
      "60000/60000 [==============================] - 5s 89us/step - loss: 0.2637 - acc: 0.9009 - val_loss: 0.3306 - val_acc: 0.8837\n",
      "Epoch 9/20\n",
      "60000/60000 [==============================] - 5s 89us/step - loss: 0.2493 - acc: 0.9067 - val_loss: 0.3494 - val_acc: 0.8731\n",
      "Epoch 10/20\n",
      "60000/60000 [==============================] - 5s 91us/step - loss: 0.2433 - acc: 0.9075 - val_loss: 0.3369 - val_acc: 0.8820\n",
      "Epoch 11/20\n",
      "60000/60000 [==============================] - 5s 90us/step - loss: 0.2340 - acc: 0.9112 - val_loss: 0.3381 - val_acc: 0.8793\n",
      "Epoch 12/20\n",
      "60000/60000 [==============================] - 5s 89us/step - loss: 0.2297 - acc: 0.9134 - val_loss: 0.3422 - val_acc: 0.8835\n",
      "Epoch 13/20\n",
      "60000/60000 [==============================] - 5s 88us/step - loss: 0.2209 - acc: 0.9170 - val_loss: 0.3488 - val_acc: 0.8819\n",
      "Epoch 14/20\n",
      "60000/60000 [==============================] - 6s 101us/step - loss: 0.2126 - acc: 0.9189 - val_loss: 0.3540 - val_acc: 0.8778\n",
      "Epoch 15/20\n",
      "60000/60000 [==============================] - 6s 95us/step - loss: 0.2089 - acc: 0.9205 - val_loss: 0.3402 - val_acc: 0.8866\n",
      "Epoch 16/20\n",
      "60000/60000 [==============================] - 6s 93us/step - loss: 0.2039 - acc: 0.9230 - val_loss: 0.3578 - val_acc: 0.8788\n",
      "Epoch 17/20\n",
      "60000/60000 [==============================] - 6s 92us/step - loss: 0.1980 - acc: 0.9257 - val_loss: 0.3493 - val_acc: 0.8847\n",
      "Epoch 18/20\n",
      "60000/60000 [==============================] - 5s 89us/step - loss: 0.1927 - acc: 0.9280 - val_loss: 0.3429 - val_acc: 0.8887\n",
      "Epoch 19/20\n",
      "60000/60000 [==============================] - 5s 90us/step - loss: 0.1872 - acc: 0.9290 - val_loss: 0.3786 - val_acc: 0.8784\n",
      "Epoch 20/20\n",
      "60000/60000 [==============================] - 5s 90us/step - loss: 0.1849 - acc: 0.9303 - val_loss: 0.4002 - val_acc: 0.8790\n"
     ]
    }
   ],
   "source": [
    "model.set_weights(weights0)\n",
    "model.compile(optimizer=\"adam\",\n",
    "              loss=\"categorical_crossentropy\",\n",
    "              metrics=[\"accuracy\"])\n",
    "hist_Adam = model.fit(train_images, train_labels, epochs=20,\n",
    "                      validation_data=(val_images, val_labels))"
   ]
  },
  {
   "cell_type": "markdown",
   "metadata": {},
   "source": [
    "### RMSProp optimiser"
   ]
  },
  {
   "cell_type": "code",
   "execution_count": 9,
   "metadata": {},
   "outputs": [
    {
     "name": "stdout",
     "output_type": "stream",
     "text": [
      "Train on 60000 samples, validate on 10000 samples\n",
      "Epoch 1/20\n",
      "60000/60000 [==============================] - 5s 76us/step - loss: 0.5016 - acc: 0.8211 - val_loss: 0.4333 - val_acc: 0.8451\n",
      "Epoch 2/20\n",
      "60000/60000 [==============================] - 4s 74us/step - loss: 0.3684 - acc: 0.8665 - val_loss: 0.3900 - val_acc: 0.8598\n",
      "Epoch 3/20\n",
      "60000/60000 [==============================] - 5s 75us/step - loss: 0.3383 - acc: 0.8782 - val_loss: 0.3743 - val_acc: 0.8675\n",
      "Epoch 4/20\n",
      "60000/60000 [==============================] - 4s 73us/step - loss: 0.3221 - acc: 0.8847 - val_loss: 0.3736 - val_acc: 0.8681\n",
      "Epoch 5/20\n",
      "60000/60000 [==============================] - 4s 75us/step - loss: 0.3105 - acc: 0.8880 - val_loss: 0.3670 - val_acc: 0.8721\n",
      "Epoch 6/20\n",
      "60000/60000 [==============================] - 4s 74us/step - loss: 0.3029 - acc: 0.8902 - val_loss: 0.3646 - val_acc: 0.8710\n",
      "Epoch 7/20\n",
      "60000/60000 [==============================] - 5s 75us/step - loss: 0.2961 - acc: 0.8935 - val_loss: 0.3618 - val_acc: 0.8712\n",
      "Epoch 8/20\n",
      "60000/60000 [==============================] - 5s 76us/step - loss: 0.2915 - acc: 0.8950 - val_loss: 0.3540 - val_acc: 0.8743\n",
      "Epoch 9/20\n",
      "60000/60000 [==============================] - 5s 76us/step - loss: 0.2868 - acc: 0.8970 - val_loss: 0.3533 - val_acc: 0.8746\n",
      "Epoch 10/20\n",
      "60000/60000 [==============================] - 5s 75us/step - loss: 0.2837 - acc: 0.8985 - val_loss: 0.3539 - val_acc: 0.8762\n",
      "Epoch 11/20\n",
      "60000/60000 [==============================] - 4s 74us/step - loss: 0.2807 - acc: 0.8990 - val_loss: 0.3510 - val_acc: 0.8771\n",
      "Epoch 12/20\n",
      "60000/60000 [==============================] - 5s 77us/step - loss: 0.2775 - acc: 0.9000 - val_loss: 0.3535 - val_acc: 0.8748\n",
      "Epoch 13/20\n",
      "60000/60000 [==============================] - 4s 74us/step - loss: 0.2752 - acc: 0.9012 - val_loss: 0.3501 - val_acc: 0.8770\n",
      "Epoch 14/20\n",
      "60000/60000 [==============================] - 4s 75us/step - loss: 0.2730 - acc: 0.9024 - val_loss: 0.3481 - val_acc: 0.8793\n",
      "Epoch 15/20\n",
      "60000/60000 [==============================] - 4s 74us/step - loss: 0.2710 - acc: 0.9032 - val_loss: 0.3467 - val_acc: 0.8787\n",
      "Epoch 16/20\n",
      "60000/60000 [==============================] - 4s 73us/step - loss: 0.2692 - acc: 0.9040 - val_loss: 0.3461 - val_acc: 0.8770\n",
      "Epoch 17/20\n",
      "60000/60000 [==============================] - 4s 73us/step - loss: 0.2671 - acc: 0.9039 - val_loss: 0.3452 - val_acc: 0.8805\n",
      "Epoch 18/20\n",
      "60000/60000 [==============================] - 4s 73us/step - loss: 0.2661 - acc: 0.9050 - val_loss: 0.3450 - val_acc: 0.8798\n",
      "Epoch 19/20\n",
      "60000/60000 [==============================] - 4s 74us/step - loss: 0.2643 - acc: 0.9053 - val_loss: 0.3441 - val_acc: 0.8801\n",
      "Epoch 20/20\n",
      "60000/60000 [==============================] - 4s 73us/step - loss: 0.2633 - acc: 0.9058 - val_loss: 0.3425 - val_acc: 0.8812\n"
     ]
    }
   ],
   "source": [
    "rms = optimizers.RMSprop(decay=0.001) # nb decay>0 required for convergence guarantee\n",
    "model.set_weights(weights0)\n",
    "model.compile(optimizer=rms,\n",
    "              loss=\"categorical_crossentropy\",\n",
    "              metrics=[\"accuracy\"])\n",
    "hist_RMSprop = model.fit(train_images, train_labels, epochs=20,\n",
    "                         validation_data=(val_images, val_labels))"
   ]
  },
  {
   "cell_type": "markdown",
   "metadata": {},
   "source": [
    "### SGD optimiser"
   ]
  },
  {
   "cell_type": "code",
   "execution_count": 10,
   "metadata": {},
   "outputs": [
    {
     "name": "stdout",
     "output_type": "stream",
     "text": [
      "Train on 60000 samples, validate on 10000 samples\n",
      "Epoch 1/20\n",
      "60000/60000 [==============================] - 4s 67us/step - loss: 0.5991 - acc: 0.7780 - val_loss: 0.4780 - val_acc: 0.8272\n",
      "Epoch 2/20\n",
      "60000/60000 [==============================] - 4s 64us/step - loss: 0.4285 - acc: 0.8411 - val_loss: 0.4120 - val_acc: 0.8484\n",
      "Epoch 3/20\n",
      "60000/60000 [==============================] - 4s 64us/step - loss: 0.3895 - acc: 0.8573 - val_loss: 0.4401 - val_acc: 0.8381\n",
      "Epoch 4/20\n",
      "60000/60000 [==============================] - 4s 64us/step - loss: 0.3664 - acc: 0.8653 - val_loss: 0.5000 - val_acc: 0.8210\n",
      "Epoch 5/20\n",
      "60000/60000 [==============================] - 4s 63us/step - loss: 0.3492 - acc: 0.8711 - val_loss: 0.4241 - val_acc: 0.8379\n",
      "Epoch 6/20\n",
      "60000/60000 [==============================] - 4s 63us/step - loss: 0.3332 - acc: 0.8763 - val_loss: 0.3995 - val_acc: 0.8529\n",
      "Epoch 7/20\n",
      "60000/60000 [==============================] - 4s 63us/step - loss: 0.3248 - acc: 0.8800 - val_loss: 0.4254 - val_acc: 0.8490\n",
      "Epoch 8/20\n",
      "60000/60000 [==============================] - 4s 64us/step - loss: 0.3150 - acc: 0.8841 - val_loss: 0.4097 - val_acc: 0.8589\n",
      "Epoch 9/20\n",
      "60000/60000 [==============================] - 4s 64us/step - loss: 0.3061 - acc: 0.8865 - val_loss: 0.4039 - val_acc: 0.8643\n",
      "Epoch 10/20\n",
      "60000/60000 [==============================] - 4s 64us/step - loss: 0.3006 - acc: 0.8881 - val_loss: 0.3786 - val_acc: 0.8709\n",
      "Epoch 11/20\n",
      "60000/60000 [==============================] - 4s 64us/step - loss: 0.2925 - acc: 0.8906 - val_loss: 0.4263 - val_acc: 0.8552\n",
      "Epoch 12/20\n",
      "60000/60000 [==============================] - 4s 64us/step - loss: 0.2849 - acc: 0.8941 - val_loss: 0.3849 - val_acc: 0.8642\n",
      "Epoch 13/20\n",
      "60000/60000 [==============================] - 4s 63us/step - loss: 0.2786 - acc: 0.8955 - val_loss: 0.4321 - val_acc: 0.8535\n",
      "Epoch 14/20\n",
      "60000/60000 [==============================] - 4s 63us/step - loss: 0.2757 - acc: 0.8972 - val_loss: 0.3612 - val_acc: 0.8754\n",
      "Epoch 15/20\n",
      "60000/60000 [==============================] - 4s 63us/step - loss: 0.2720 - acc: 0.8985 - val_loss: 0.3654 - val_acc: 0.8736\n",
      "Epoch 16/20\n",
      "60000/60000 [==============================] - 4s 65us/step - loss: 0.2677 - acc: 0.9002 - val_loss: 0.3838 - val_acc: 0.8691\n",
      "Epoch 17/20\n",
      "60000/60000 [==============================] - 4s 65us/step - loss: 0.2601 - acc: 0.9028 - val_loss: 0.3786 - val_acc: 0.8717\n",
      "Epoch 18/20\n",
      "60000/60000 [==============================] - 4s 66us/step - loss: 0.2583 - acc: 0.9030 - val_loss: 0.3591 - val_acc: 0.8833\n",
      "Epoch 19/20\n",
      "60000/60000 [==============================] - 4s 70us/step - loss: 0.2534 - acc: 0.9057 - val_loss: 0.3677 - val_acc: 0.8767\n",
      "Epoch 20/20\n",
      "60000/60000 [==============================] - 4s 72us/step - loss: 0.2528 - acc: 0.9051 - val_loss: 0.3736 - val_acc: 0.8774\n"
     ]
    }
   ],
   "source": [
    "sgd = optimizers.SGD(lr=0.3)\n",
    "model.set_weights(weights0)\n",
    "model.compile(optimizer=sgd,\n",
    "              loss=\"categorical_crossentropy\",\n",
    "              metrics=[\"accuracy\"])\n",
    "hist_SGD = model.fit(train_images, train_labels, epochs=20,\n",
    "                     validation_data=(val_images, val_labels))"
   ]
  },
  {
   "cell_type": "markdown",
   "metadata": {},
   "source": [
    "### SGD with weight decay"
   ]
  },
  {
   "cell_type": "code",
   "execution_count": 11,
   "metadata": {},
   "outputs": [
    {
     "name": "stdout",
     "output_type": "stream",
     "text": [
      "Train on 60000 samples, validate on 10000 samples\n",
      "Epoch 1/20\n",
      "60000/60000 [==============================] - 4s 71us/step - loss: 0.5395 - acc: 0.7977 - val_loss: 0.4622 - val_acc: 0.8316\n",
      "Epoch 2/20\n",
      "60000/60000 [==============================] - 4s 63us/step - loss: 0.3738 - acc: 0.8622 - val_loss: 0.3984 - val_acc: 0.8519\n",
      "Epoch 3/20\n",
      "60000/60000 [==============================] - 4s 64us/step - loss: 0.3378 - acc: 0.8744 - val_loss: 0.3786 - val_acc: 0.8613\n",
      "Epoch 4/20\n",
      "60000/60000 [==============================] - 4s 64us/step - loss: 0.3160 - acc: 0.8830 - val_loss: 0.3678 - val_acc: 0.8657\n",
      "Epoch 5/20\n",
      "60000/60000 [==============================] - 4s 64us/step - loss: 0.3035 - acc: 0.8871 - val_loss: 0.3554 - val_acc: 0.8697\n",
      "Epoch 6/20\n",
      "60000/60000 [==============================] - 4s 63us/step - loss: 0.2922 - acc: 0.8912 - val_loss: 0.3511 - val_acc: 0.8691\n",
      "Epoch 7/20\n",
      "60000/60000 [==============================] - 4s 64us/step - loss: 0.2833 - acc: 0.8943 - val_loss: 0.3474 - val_acc: 0.8730\n",
      "Epoch 8/20\n",
      "60000/60000 [==============================] - 4s 63us/step - loss: 0.2763 - acc: 0.8984 - val_loss: 0.3456 - val_acc: 0.8755\n",
      "Epoch 9/20\n",
      "60000/60000 [==============================] - 4s 66us/step - loss: 0.2705 - acc: 0.9007 - val_loss: 0.3430 - val_acc: 0.8752\n",
      "Epoch 10/20\n",
      "60000/60000 [==============================] - 4s 65us/step - loss: 0.2654 - acc: 0.9016 - val_loss: 0.3426 - val_acc: 0.8759\n",
      "Epoch 11/20\n",
      "60000/60000 [==============================] - 4s 64us/step - loss: 0.2605 - acc: 0.9042 - val_loss: 0.3357 - val_acc: 0.8773\n",
      "Epoch 12/20\n",
      "60000/60000 [==============================] - 4s 64us/step - loss: 0.2565 - acc: 0.9056 - val_loss: 0.3341 - val_acc: 0.8774\n",
      "Epoch 13/20\n",
      "60000/60000 [==============================] - 4s 63us/step - loss: 0.2526 - acc: 0.9077 - val_loss: 0.3325 - val_acc: 0.8815\n",
      "Epoch 14/20\n",
      "60000/60000 [==============================] - 4s 64us/step - loss: 0.2493 - acc: 0.9081 - val_loss: 0.3329 - val_acc: 0.8775\n",
      "Epoch 15/20\n",
      "60000/60000 [==============================] - 4s 64us/step - loss: 0.2463 - acc: 0.9096 - val_loss: 0.3377 - val_acc: 0.8799\n",
      "Epoch 16/20\n",
      "60000/60000 [==============================] - 4s 64us/step - loss: 0.2435 - acc: 0.9108 - val_loss: 0.3307 - val_acc: 0.8814\n",
      "Epoch 17/20\n",
      "60000/60000 [==============================] - 4s 64us/step - loss: 0.2412 - acc: 0.9119 - val_loss: 0.3281 - val_acc: 0.8799\n",
      "Epoch 18/20\n",
      "60000/60000 [==============================] - 4s 64us/step - loss: 0.2382 - acc: 0.9124 - val_loss: 0.3271 - val_acc: 0.8829\n",
      "Epoch 19/20\n",
      "60000/60000 [==============================] - 4s 65us/step - loss: 0.2355 - acc: 0.9144 - val_loss: 0.3305 - val_acc: 0.8798\n",
      "Epoch 20/20\n",
      "60000/60000 [==============================] - 4s 64us/step - loss: 0.2338 - acc: 0.9149 - val_loss: 0.3312 - val_acc: 0.8817\n"
     ]
    }
   ],
   "source": [
    "sgd2 = optimizers.SGD(lr=0.3, decay=0.001)\n",
    "model.set_weights(weights0)\n",
    "model.compile(optimizer=sgd2,\n",
    "              loss=\"categorical_crossentropy\",\n",
    "              metrics=[\"accuracy\"])\n",
    "hist_SGD2 = model.fit(train_images, train_labels, epochs=20,\n",
    "                     validation_data=(val_images, val_labels))"
   ]
  },
  {
   "cell_type": "markdown",
   "metadata": {},
   "source": [
    "## Plot results"
   ]
  },
  {
   "cell_type": "code",
   "execution_count": 12,
   "metadata": {},
   "outputs": [],
   "source": [
    "import matplotlib.pyplot as plt"
   ]
  },
  {
   "cell_type": "code",
   "execution_count": 13,
   "metadata": {},
   "outputs": [
    {
     "data": {
      "text/plain": [
       "<matplotlib.legend.Legend at 0x7fe1604c79b0>"
      ]
     },
     "execution_count": 13,
     "metadata": {},
     "output_type": "execute_result"
    },
    {
     "data": {
      "image/png": "[encoded data removed]",
      "text/plain": [
       "<Figure size 432x288 with 1 Axes>"
      ]
     },
     "metadata": {},
     "output_type": "display_data"
    }
   ],
   "source": [
    "methods = [\"adam\", \"sgd (const)\", \"sgd (decay)\", \"RMSprop\"]\n",
    "outputs = [hist_Adam, hist_SGD, hist_SGD2, hist_RMSprop]\n",
    "losses = [x.history[\"loss\"] for x in outputs]\n",
    "epochs = range(0, 20)\n",
    "for m,l in zip(methods, losses):\n",
    "   plt.plot(epochs, l, \"-\", label=m)\n",
    "plt.legend()"
   ]
  },
  {
   "cell_type": "markdown",
   "metadata": {},
   "source": [
    "Here Adam outperforms both SGD algorithms in later epochs, presumably because it has tuned its learning rate well and/or because it uses different rates for different weights. However RMSprop (another adaptive optmiser) does not perform as well as constant rate SGD. Also, note that the SGD algorithm with decay has a smoother path than constant SGD. This is because its learning rate reduces in later epochs, making it more robust to random variation of gradients.\n",
    "\n",
    "Which optimiser works best will vary depending on the problem, and constant rate SGD can sometimes be surprisingly competitive with more sophisticated methods.\n",
    "\n",
    "A big practical advantage of the Adam optimiser is that it usually works well \"out of the box\" with no need to change its tuning parameters from the defaults. All the other methods here required some parameter tuning to get reasonable performance."
   ]
  }
 ],
 "metadata": {
  "kernelspec": {
   "display_name": "Python 2",
   "language": "python",
   "name": "python2"
  },
  "language_info": {
   "codemirror_mode": {
    "name": "ipython",
    "version": 3
   },
   "file_extension": ".py",
   "mimetype": "text/x-python",
   "name": "python",
   "nbconvert_exporter": "python",
   "pygments_lexer": "ipython3",
   "version": "3.5.2"
  }
 },
 "nbformat": 4,
 "nbformat_minor": 2
}
