{
 "cells": [
  {
   "cell_type": "markdown",
   "metadata": {},
   "source": [
    "# Implementing a neural network in low-level tensorflow with eager execution"
   ]
  },
  {
   "cell_type": "markdown",
   "metadata": {},
   "source": [
    "This notebook implements a simple multilayer perceptron for the Boston Housing data. First we set up tensorflow for eager execution."
   ]
  },
  {
   "cell_type": "code",
   "execution_count": 1,
   "metadata": {},
   "outputs": [
    {
     "name": "stdout",
     "output_type": "stream",
     "text": [
      "\n",
      "WARNING: The TensorFlow contrib module will not be included in TensorFlow 2.0.\n",
      "For more information, please see:\n",
      "  * https://github.com/tensorflow/community/blob/master/rfcs/20180907-contrib-sunset.md\n",
      "  * https://github.com/tensorflow/addons\n",
      "If you depend on functionality not listed there, please file an issue.\n",
      "\n"
     ]
    }
   ],
   "source": [
    "import tensorflow as tf\n",
    "tf.enable_eager_execution()\n",
    "tfe = tf.contrib.eager"
   ]
  },
  {
   "cell_type": "markdown",
   "metadata": {},
   "source": [
    "Now we get the Boston Housing data, normalise it and reshape the outputs into 2-dimensional tensors (which are required because they must match our `pred` tensor which is 2-dimensional as noted above)."
   ]
  },
  {
   "cell_type": "code",
   "execution_count": 2,
   "metadata": {},
   "outputs": [
    {
     "name": "stderr",
     "output_type": "stream",
     "text": [
      "Using TensorFlow backend.\n"
     ]
    }
   ],
   "source": [
    "# Download data\n",
    "import numpy as np\n",
    "from keras.datasets import boston_housing\n",
    "(x_train, y_train), (x_val, y_val) = boston_housing.load_data()\n",
    "# Normalise data\n",
    "x_mean = np.std(x_train, 0)\n",
    "x_sd = np.std(x_train, 0)\n",
    "for i in range(13):\n",
    "    x_train[:,i] -= x_mean[i]\n",
    "    x_train[:,i] /= x_sd[i]\n",
    "    x_val[:,i] -= x_mean[i]\n",
    "    x_val[:,i] /= x_sd[i]\n",
    "# Reshape data\n",
    "y_train = y_train.reshape((404,1))\n",
    "y_val = y_val.reshape((102,1))"
   ]
  },
  {
   "cell_type": "markdown",
   "metadata": {},
   "source": [
    "Let's split the data into batches."
   ]
  },
  {
   "cell_type": "code",
   "execution_count": 3,
   "metadata": {},
   "outputs": [],
   "source": [
    "nbatches = 10\n",
    "xbatches = np.array_split(x_train, nbatches)\n",
    "ybatches = np.array_split(y_train, nbatches)"
   ]
  },
  {
   "cell_type": "markdown",
   "metadata": {},
   "source": [
    "Next we create the variables we are going to use. Their shapes depend on the architecture of our network so we also specify this."
   ]
  },
  {
   "cell_type": "code",
   "execution_count": 4,
   "metadata": {},
   "outputs": [],
   "source": [
    "ninputs = x_train.shape[1]\n",
    "layer_sizes = [5, 3, 1] # nb the last layer is the output\n",
    "biases = [tfe.Variable(np.random.normal(scale=0.05, size=n), dtype=tf.float32) for n in layer_sizes]\n",
    "weight_dims = zip([ninputs]+layer_sizes[0:-1], layer_sizes) # list of tuples giving dimensions for weight matrices\n",
    "weights = [tfe.Variable(np.random.normal(scale=0.05, size=s), dtype=tf.float32) for s in weight_dims]\n",
    "variables = biases+weights"
   ]
  },
  {
   "cell_type": "markdown",
   "metadata": {},
   "source": [
    "Now we create a function which performs a forward evaluation of the neural network. I'm using the tanh activation function for the intermediate layers as this small neural network is especially vulnerable to dead ReLUs. For the final layer I use a softplus activation function to ensure the output is positive."
   ]
  },
  {
   "cell_type": "code",
   "execution_count": 5,
   "metadata": {},
   "outputs": [],
   "source": [
    "def get_preds(x, sizes=[5,3]):\n",
    "    inputs = tf.constant(x, dtype=tf.float32)\n",
    "    layer1 = tf.nn.tanh(tf.matmul(inputs, weights[0]) + biases[0])\n",
    "    layer2 = tf.nn.tanh(tf.matmul(layer1, weights[1]) + biases[1])\n",
    "    preds = tf.nn.softplus(tf.matmul(layer2, weights[2]) + biases[2])\n",
    "    return preds"
   ]
  },
  {
   "cell_type": "markdown",
   "metadata": {},
   "source": [
    "Note that the output of `get_preds` ends up being a 2-dimensional tensor, although it has only 1 column."
   ]
  },
  {
   "cell_type": "code",
   "execution_count": 6,
   "metadata": {},
   "outputs": [
    {
     "name": "stdout",
     "output_type": "stream",
     "text": [
      "WARNING:tensorflow:From /home/dennis/.local/lib/python3.5/site-packages/tensorflow/python/ops/resource_variable_ops.py:642: colocate_with (from tensorflow.python.framework.ops) is deprecated and will be removed in a future version.\n",
      "Instructions for updating:\n",
      "Colocations handled automatically by placer.\n",
      "tf.Tensor(\n",
      "[[0.6928331 ]\n",
      " [0.69509375]\n",
      " [0.69401705]\n",
      " [0.6928672 ]\n",
      " [0.6931503 ]\n",
      " [0.69316626]\n",
      " [0.69324255]\n",
      " [0.69390005]\n",
      " [0.6945656 ]\n",
      " [0.69255024]\n",
      " [0.69335556]\n",
      " [0.6939189 ]\n",
      " [0.69379294]\n",
      " [0.6932428 ]\n",
      " [0.69303864]\n",
      " [0.69730777]\n",
      " [0.69415253]\n",
      " [0.6949626 ]\n",
      " [0.69519097]\n",
      " [0.69308454]\n",
      " [0.69534343]\n",
      " [0.6942659 ]\n",
      " [0.69472915]\n",
      " [0.6943555 ]\n",
      " [0.69294465]\n",
      " [0.69329786]\n",
      " [0.69401526]\n",
      " [0.69358885]\n",
      " [0.6929528 ]\n",
      " [0.69317174]\n",
      " [0.6943131 ]\n",
      " [0.6931586 ]\n",
      " [0.6933645 ]\n",
      " [0.6928399 ]\n",
      " [0.6942925 ]\n",
      " [0.6930908 ]\n",
      " [0.6929938 ]\n",
      " [0.69295186]\n",
      " [0.6931173 ]\n",
      " [0.69337535]\n",
      " [0.69325256]], shape=(41, 1), dtype=float32)\n"
     ]
    }
   ],
   "source": [
    "preds = get_preds(xbatches[0])\n",
    "print(preds)"
   ]
  },
  {
   "cell_type": "markdown",
   "metadata": {},
   "source": [
    "We'll use mean squared error loss which can be implemented in Tensorflow as follows."
   ]
  },
  {
   "cell_type": "code",
   "execution_count": 7,
   "metadata": {},
   "outputs": [
    {
     "data": {
      "text/plain": [
       "<tf.Tensor: id=64, shape=(), dtype=float32, numpy=527.35754>"
      ]
     },
     "execution_count": 7,
     "metadata": {},
     "output_type": "execute_result"
    }
   ],
   "source": [
    "tf.reduce_mean(tf.square(preds - ybatches[0]))"
   ]
  },
  {
   "cell_type": "markdown",
   "metadata": {},
   "source": [
    "The following functions evaluate the loss and the its gradient."
   ]
  },
  {
   "cell_type": "code",
   "execution_count": 8,
   "metadata": {},
   "outputs": [],
   "source": [
    "def get_loss(x, y):\n",
    "    return tf.reduce_mean(tf.square(get_preds(x) - y))"
   ]
  },
  {
   "cell_type": "code",
   "execution_count": 9,
   "metadata": {},
   "outputs": [],
   "source": [
    "def get_loss_and_grads(x, y):\n",
    "    with tf.GradientTape() as tape:\n",
    "        loss = get_loss(x, y)\n",
    "    return loss, tape.gradient(loss, variables)"
   ]
  },
  {
   "cell_type": "markdown",
   "metadata": {},
   "source": [
    "Next we create our optimiser."
   ]
  },
  {
   "cell_type": "code",
   "execution_count": 10,
   "metadata": {},
   "outputs": [],
   "source": [
    "optimiser = tf.train.AdamOptimizer()"
   ]
  },
  {
   "cell_type": "markdown",
   "metadata": {},
   "source": [
    "Finally we can train the neural network."
   ]
  },
  {
   "cell_type": "code",
   "execution_count": 11,
   "metadata": {},
   "outputs": [
    {
     "name": "stdout",
     "output_type": "stream",
     "text": [
      "Epochs 250 Train loss 230.4 Validation loss 245.5\n",
      "Epochs 500 Train loss 108.5 Validation loss 114.1\n",
      "Epochs 750 Train loss 85.1 Validation loss 85.2\n",
      "Epochs 1000 Train loss 42.5 Validation loss 44.3\n",
      "Epochs 1250 Train loss 21.9 Validation loss 27.8\n",
      "Epochs 1500 Train loss 12.8 Validation loss 22.5\n",
      "Epochs 1750 Train loss 8.3 Validation loss 21.9\n",
      "Epochs 2000 Train loss 6.3 Validation loss 22.6\n",
      "Epochs 2250 Train loss 5.6 Validation loss 23.0\n",
      "Epochs 2500 Train loss 5.4 Validation loss 23.1\n",
      "Epochs 2750 Train loss 5.2 Validation loss 23.1\n",
      "Epochs 3000 Train loss 5.1 Validation loss 23.1\n",
      "Epochs 3250 Train loss 5.1 Validation loss 23.1\n",
      "Epochs 3500 Train loss 5.0 Validation loss 23.2\n",
      "Epochs 3750 Train loss 4.9 Validation loss 23.6\n",
      "Epochs 4000 Train loss 4.8 Validation loss 23.9\n",
      "Epochs 4250 Train loss 4.7 Validation loss 24.0\n",
      "Epochs 4500 Train loss 4.7 Validation loss 24.0\n",
      "Epochs 4750 Train loss 4.6 Validation loss 23.9\n"
     ]
    }
   ],
   "source": [
    "for e in range(1, 5000):\n",
    "  train_loss = 0.\n",
    "  for (x, y) in zip(xbatches, ybatches):\n",
    "      next_loss, grads = get_loss_and_grads(x, y)\n",
    "      optimiser.apply_gradients(zip(grads, variables))\n",
    "      train_loss += next_loss\n",
    "  if e % 250 == 0:\n",
    "    train_loss /= nbatches\n",
    "    val_loss = get_loss(x_val, y_val)\n",
    "    print(\"Epochs {:3d} Train loss {:.1f} Validation loss {:.1f}\".format(e, train_loss, val_loss))"
   ]
  },
  {
   "cell_type": "markdown",
   "metadata": {},
   "source": [
    "This run has achieved much better training loss than for linear regression and a similar validation loss - compare with Figure 2.1 of the notes. The difference between training and validation loss suggests significant overfitting. (On other training runs the evidence is even stronger due to a large validation loss!)\n",
    "\n",
    "Let's look at our predictions."
   ]
  },
  {
   "cell_type": "code",
   "execution_count": 12,
   "metadata": {},
   "outputs": [],
   "source": [
    "predictions_train = get_preds(x_train)\n",
    "predictions_val = get_preds(x_val)"
   ]
  },
  {
   "cell_type": "code",
   "execution_count": 13,
   "metadata": {},
   "outputs": [],
   "source": [
    "import matplotlib.pyplot as plt"
   ]
  },
  {
   "cell_type": "code",
   "execution_count": 14,
   "metadata": {
    "scrolled": true
   },
   "outputs": [
    {
     "data": {
      "text/plain": [
       "<matplotlib.legend.Legend at 0x7f2d8972b278>"
      ]
     },
     "execution_count": 14,
     "metadata": {},
     "output_type": "execute_result"
    },
    {
     "data": {
      "image/png": "[encoded data removed]",
      "text/plain": [
       "<Figure size 432x288 with 1 Axes>"
      ]
     },
     "metadata": {},
     "output_type": "display_data"
    }
   ],
   "source": [
    "plt.plot(y_train, predictions_train, \"bo\", label=\"train\")\n",
    "plt.plot(y_val, predictions_val, \"ro\", label=\"validation\")\n",
    "plt.legend()"
   ]
  },
  {
   "cell_type": "markdown",
   "metadata": {},
   "source": [
    "The training predictions look significantly improved compared to the linear regression values in Figure 2.2. One improvement is that we've prevented any negative predictions by using a softplus activation. Another is that house values close to 50 are no longer badly underestimated.\n",
    "\n",
    "On the other hand the validation predictions contain several outlying predictions corroborating the earlier suspicion of overfitting. Regularisation of some sort would probably improve validation loss.\n",
    "\n",
    "This example illustrates that neural networks can improve on linear regression even for small datasets. However the major benefits are for big datasets!"
   ]
  }
 ],
 "metadata": {
  "kernelspec": {
   "display_name": "Python 2",
   "language": "python",
   "name": "python2"
  },
  "language_info": {
   "codemirror_mode": {
    "name": "ipython",
    "version": 3
   },
   "file_extension": ".py",
   "mimetype": "text/x-python",
   "name": "python",
   "nbconvert_exporter": "python",
   "pygments_lexer": "ipython3",
   "version": "3.5.2"
  }
 },
 "nbformat": 4,
 "nbformat_minor": 2
}
