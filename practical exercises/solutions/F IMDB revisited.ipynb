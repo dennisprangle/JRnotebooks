{
 "cells": [
  {
   "cell_type": "markdown",
   "metadata": {},
   "source": [
    "# IMDB revisited"
   ]
  },
  {
   "cell_type": "code",
   "execution_count": 1,
   "metadata": {},
   "outputs": [
    {
     "name": "stderr",
     "output_type": "stream",
     "text": [
      "Using TensorFlow backend.\n"
     ]
    },
    {
     "name": "stdout",
     "output_type": "stream",
     "text": [
      "Loading data...\n",
      "25000 train sequences\n",
      "25000 validation sequences\n",
      "Pad sequences (samples x time)\n",
      "x_train shape: (25000, 2500)\n",
      "x_val shape: (25000, 2500)\n"
     ]
    }
   ],
   "source": [
    "from keras.datasets import imdb\n",
    "from keras.preprocessing import sequence\n",
    "max_words = 10000\n",
    "max_len = 2500 # just over max review length\n",
    "print('Loading data...')\n",
    "(x_train, y_train), (x_val, y_val) = imdb.load_data(num_words=max_words)\n",
    "print(len(x_train), 'train sequences')\n",
    "print(len(x_val), 'validation sequences')\n",
    "print('Pad sequences (samples x time)')\n",
    "x_train = sequence.pad_sequences(x_train, maxlen=max_len)\n",
    "x_val = sequence.pad_sequences(x_val, maxlen=max_len)\n",
    "print('x_train shape:', x_train.shape)\n",
    "print('x_val shape:', x_val.shape)"
   ]
  },
  {
   "cell_type": "markdown",
   "metadata": {},
   "source": [
    "Next I set up model. I've changed the model in the notes as follows:\n",
    "* Set `max_len` to 2500, which is enough to contain all the complete reviews.\n",
    "\n",
    "And to reduce overfitting:\n",
    "* Used dropout\n",
    "* Used weight penalisation. This was particularly effective in the embedding layer (I guess this discouraged memorisation of combinations of rare words). I used L2 penalisation and tanh activations as these are resistant to heavy penalisation i.e. network doesn't collapse down to all weights being zero so easily.\n",
    "* Reduced number of layers and units in the model (this also speeds up training!)\n",
    "* Used a global pooling layer: this pools across all whole length of the sequence"
   ]
  },
  {
   "cell_type": "code",
   "execution_count": 2,
   "metadata": {
    "scrolled": true
   },
   "outputs": [
    {
     "name": "stdout",
     "output_type": "stream",
     "text": [
      "WARNING:tensorflow:From /home/dennis/.local/lib/python3.5/site-packages/tensorflow/python/framework/op_def_library.py:263: colocate_with (from tensorflow.python.framework.ops) is deprecated and will be removed in a future version.\n",
      "Instructions for updating:\n",
      "Colocations handled automatically by placer.\n",
      "_________________________________________________________________\n",
      "Layer (type)                 Output Shape              Param #   \n",
      "=================================================================\n",
      "embedding_1 (Embedding)      (None, 2500, 16)          160000    \n",
      "_________________________________________________________________\n",
      "conv1d_1 (Conv1D)            (None, 2500, 16)          1808      \n",
      "_________________________________________________________________\n",
      "max_pooling1d_1 (MaxPooling1 (None, 500, 16)           0         \n",
      "_________________________________________________________________\n",
      "conv1d_2 (Conv1D)            (None, 500, 8)            904       \n",
      "_________________________________________________________________\n",
      "global_max_pooling1d_1 (Glob (None, 8)                 0         \n",
      "_________________________________________________________________\n",
      "dense_1 (Dense)              (None, 1)                 9         \n",
      "=================================================================\n",
      "Total params: 162,721\n",
      "Trainable params: 162,721\n",
      "Non-trainable params: 0\n",
      "_________________________________________________________________\n"
     ]
    }
   ],
   "source": [
    "from keras import models\n",
    "from keras import layers\n",
    "from keras import optimizers\n",
    "from keras import regularizers\n",
    "model = models.Sequential()\n",
    "reg = regularizers.l2(0.001)\n",
    "model.add(layers.Embedding(max_words, 16, input_length=max_len, embeddings_regularizer=reg))\n",
    "layers.Dropout(0.2)\n",
    "model.add(layers.Conv1D(16, 7, activation=\"tanh\", padding=\"same\", kernel_regularizer=reg))\n",
    "model.add(layers.MaxPooling1D(5))\n",
    "layers.Dropout(0.5)\n",
    "model.add(layers.Conv1D(8, 7, activation=\"tanh\", padding=\"same\", kernel_regularizer=reg))\n",
    "model.add(layers.GlobalMaxPooling1D())\n",
    "layers.Dropout(0.5)\n",
    "model.add(layers.Dense(1, activation=\"sigmoid\", kernel_regularizer=reg))\n",
    "model.summary()"
   ]
  },
  {
   "cell_type": "code",
   "execution_count": 3,
   "metadata": {},
   "outputs": [
    {
     "name": "stdout",
     "output_type": "stream",
     "text": [
      "WARNING:tensorflow:From /home/dennis/.local/lib/python3.5/site-packages/tensorflow/python/ops/math_ops.py:3066: to_int32 (from tensorflow.python.ops.math_ops) is deprecated and will be removed in a future version.\n",
      "Instructions for updating:\n",
      "Use tf.cast instead.\n",
      "WARNING:tensorflow:From /home/dennis/.local/lib/python3.5/site-packages/tensorflow/python/ops/math_grad.py:102: div (from tensorflow.python.ops.math_ops) is deprecated and will be removed in a future version.\n",
      "Instructions for updating:\n",
      "Deprecated in favor of operator or tf.math.divide.\n",
      "Train on 25000 samples, validate on 25000 samples\n",
      "Epoch 1/10\n",
      "25000/25000 [==============================] - 68s 3ms/step - loss: 0.6893 - acc: 0.6254 - val_loss: 0.5108 - val_acc: 0.7983\n",
      "Epoch 2/10\n",
      "25000/25000 [==============================] - 68s 3ms/step - loss: 0.4488 - acc: 0.8431 - val_loss: 0.4274 - val_acc: 0.8537\n",
      "Epoch 3/10\n",
      "25000/25000 [==============================] - 68s 3ms/step - loss: 0.3770 - acc: 0.8882 - val_loss: 0.4154 - val_acc: 0.8616\n",
      "Epoch 4/10\n",
      "25000/25000 [==============================] - 74s 3ms/step - loss: 0.3452 - acc: 0.9094 - val_loss: 0.4136 - val_acc: 0.8661\n",
      "Epoch 5/10\n",
      "25000/25000 [==============================] - 70s 3ms/step - loss: 0.3235 - acc: 0.9237 - val_loss: 0.4219 - val_acc: 0.8675\n",
      "Epoch 6/10\n",
      "25000/25000 [==============================] - 71s 3ms/step - loss: 0.3141 - acc: 0.9277 - val_loss: 0.4309 - val_acc: 0.8644\n",
      "Epoch 7/10\n",
      "25000/25000 [==============================] - 65s 3ms/step - loss: 0.2984 - acc: 0.9377 - val_loss: 0.4352 - val_acc: 0.8652\n",
      "Epoch 8/10\n",
      "25000/25000 [==============================] - 65s 3ms/step - loss: 0.2874 - acc: 0.9432 - val_loss: 0.4456 - val_acc: 0.8655\n",
      "Epoch 9/10\n",
      "25000/25000 [==============================] - 65s 3ms/step - loss: 0.2824 - acc: 0.9475 - val_loss: 0.4652 - val_acc: 0.8595\n",
      "Epoch 10/10\n",
      "25000/25000 [==============================] - 65s 3ms/step - loss: 0.2752 - acc: 0.9508 - val_loss: 0.4539 - val_acc: 0.8673\n"
     ]
    }
   ],
   "source": [
    "model.compile(optimizer=\"adam\",\n",
    "              loss=\"binary_crossentropy\",\n",
    "              metrics=[\"acc\"])\n",
    "history = model.fit(x_train, y_train,\n",
    "                    epochs=10,\n",
    "                    batch_size=128,\n",
    "                    validation_data=(x_val, y_val))"
   ]
  },
  {
   "cell_type": "code",
   "execution_count": 4,
   "metadata": {},
   "outputs": [],
   "source": [
    "import matplotlib.pyplot as plt"
   ]
  },
  {
   "cell_type": "code",
   "execution_count": 5,
   "metadata": {},
   "outputs": [
    {
     "data": {
      "image/png": "[encoded data removed]",
      "text/plain": [
       "<Figure size 432x288 with 1 Axes>"
      ]
     },
     "metadata": {},
     "output_type": "display_data"
    }
   ],
   "source": [
    "history_dict = history.history\n",
    "train_loss = history_dict[\"loss\"]\n",
    "val_loss = history_dict[\"val_loss\"]\n",
    "epochs = range(1, len(train_loss) + 1)\n",
    "plt.plot(epochs, train_loss, \"b-\", label=\"train\")\n",
    "plt.plot(epochs, val_loss, \"r-\", label=\"validation\")\n",
    "plt.legend()\n",
    "plt.xlabel(\"Epochs\")\n",
    "plt.ylabel(\"Loss\")\n",
    "plt.show()"
   ]
  },
  {
   "cell_type": "code",
   "execution_count": 6,
   "metadata": {},
   "outputs": [
    {
     "data": {
      "image/png": "[encoded data removed]",
      "text/plain": [
       "<Figure size 432x288 with 1 Axes>"
      ]
     },
     "metadata": {},
     "output_type": "display_data"
    }
   ],
   "source": [
    "train_acc = history_dict[\"acc\"]\n",
    "test_acc = history_dict[\"val_acc\"]\n",
    "plt.plot(epochs, train_acc, \"bo\", label=\"train\")\n",
    "plt.plot(epochs, test_acc, \"ro\", label=\"validation\")\n",
    "plt.legend()\n",
    "plt.xlabel(\"Epochs\")\n",
    "plt.ylabel(\"Accuracy\")\n",
    "plt.show()"
   ]
  },
  {
   "cell_type": "markdown",
   "metadata": {},
   "source": [
    "This network is more resistant to overfitting than the example of 10.2 although its best validation performance is similar. Overfitting is still a problem, as we can see by the training loss being better than the validation loss in later epochs. To improve further we really need more data!"
   ]
  }
 ],
 "metadata": {
  "kernelspec": {
   "display_name": "Python 2",
   "language": "python",
   "name": "python2"
  },
  "language_info": {
   "codemirror_mode": {
    "name": "ipython",
    "version": 3
   },
   "file_extension": ".py",
   "mimetype": "text/x-python",
   "name": "python",
   "nbconvert_exporter": "python",
   "pygments_lexer": "ipython3",
   "version": "3.5.2"
  }
 },
 "nbformat": 4,
 "nbformat_minor": 2
}
