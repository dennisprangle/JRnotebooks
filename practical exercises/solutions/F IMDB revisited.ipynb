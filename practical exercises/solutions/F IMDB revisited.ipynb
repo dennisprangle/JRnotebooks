{
 "cells": [
  {
   "cell_type": "markdown",
   "metadata": {},
   "source": [
    "# IMDB revisited"
   ]
  },
  {
   "cell_type": "code",
   "execution_count": 1,
   "metadata": {},
   "outputs": [
    {
     "name": "stderr",
     "output_type": "stream",
     "text": [
      "Using TensorFlow backend.\n"
     ]
    },
    {
     "name": "stdout",
     "output_type": "stream",
     "text": [
      "Loading data...\n",
      "(25000, 'train sequences')\n",
      "(25000, 'validation sequences')\n",
      "Pad sequences (samples x time)\n",
      "('x_train shape:', (25000, 500))\n",
      "('x_val shape:', (25000, 500))\n"
     ]
    }
   ],
   "source": [
    "from keras.datasets import imdb\n",
    "from keras.preprocessing import sequence\n",
    "max_words = 10000\n",
    "max_len = 500\n",
    "print('Loading data...')\n",
    "(x_train, y_train), (x_val, y_val) = imdb.load_data(num_words=max_words)\n",
    "print(len(x_train), 'train sequences')\n",
    "print(len(x_val), 'validation sequences')\n",
    "print('Pad sequences (samples x time)')\n",
    "x_train = sequence.pad_sequences(x_train, maxlen=max_len)\n",
    "x_val = sequence.pad_sequences(x_val, maxlen=max_len)\n",
    "print('x_train shape:', x_train.shape)\n",
    "print('x_val shape:', x_val.shape)"
   ]
  },
  {
   "cell_type": "markdown",
   "metadata": {},
   "source": [
    "Next I set up model. I've changed the model in the notes as follows:\n",
    "* Added in a sigmoid activation function in the last layer (mistakenly missed out in notes!)\n",
    "And to reduce overfitting:\n",
    "* Used dropout\n",
    "* Used weight penalisation. This was particularly effective in the embedding layer (I guess this discouraged memorisation of combinations of rare words). I used L2 penalisation and tanh activations as these are resistant to heavy penalisation i.e. network doesn't collapse down to all weights being zero so easily.\n",
    "* Reduced number of layers and units in the model (this also speeds up training!)\n",
    "* Used a global pooling layer: this pools across all whole length of the sequence"
   ]
  },
  {
   "cell_type": "code",
   "execution_count": 2,
   "metadata": {
    "scrolled": true
   },
   "outputs": [
    {
     "name": "stdout",
     "output_type": "stream",
     "text": [
      "_________________________________________________________________\n",
      "Layer (type)                 Output Shape              Param #   \n",
      "=================================================================\n",
      "embedding_1 (Embedding)      (None, 500, 8)            80000     \n",
      "_________________________________________________________________\n",
      "conv1d_1 (Conv1D)            (None, 500, 8)            456       \n",
      "_________________________________________________________________\n",
      "global_max_pooling1d_1 (Glob (None, 8)                 0         \n",
      "_________________________________________________________________\n",
      "dense_1 (Dense)              (None, 1)                 9         \n",
      "=================================================================\n",
      "Total params: 80,465\n",
      "Trainable params: 80,465\n",
      "Non-trainable params: 0\n",
      "_________________________________________________________________\n"
     ]
    }
   ],
   "source": [
    "from keras import models\n",
    "from keras import layers\n",
    "from keras import optimizers\n",
    "from keras import regularizers\n",
    "model = models.Sequential()\n",
    "reg = regularizers.l2(0.001)\n",
    "model.add(layers.Embedding(max_words, 8, input_length=max_len, embeddings_regularizer=reg))\n",
    "layers.Dropout(0.2)\n",
    "model.add(layers.Conv1D(8, 7, activation=\"tanh\", padding=\"same\", kernel_regularizer=reg))\n",
    "model.add(layers.GlobalMaxPooling1D())\n",
    "layers.Dropout(0.5)\n",
    "model.add(layers.Dense(1, activation=\"sigmoid\", kernel_regularizer=reg))\n",
    "model.summary()"
   ]
  },
  {
   "cell_type": "code",
   "execution_count": 3,
   "metadata": {},
   "outputs": [
    {
     "name": "stdout",
     "output_type": "stream",
     "text": [
      "Train on 25000 samples, validate on 25000 samples\n",
      "Epoch 1/10\n",
      "25000/25000 [==============================] - 20s 789us/step - loss: 0.6846 - acc: 0.6325 - val_loss: 0.6133 - val_acc: 0.7374\n",
      "Epoch 2/10\n",
      "25000/25000 [==============================] - 18s 723us/step - loss: 0.5514 - acc: 0.7538 - val_loss: 0.5037 - val_acc: 0.7902\n",
      "Epoch 3/10\n",
      "25000/25000 [==============================] - 18s 729us/step - loss: 0.4895 - acc: 0.7999 - val_loss: 0.4764 - val_acc: 0.8131\n",
      "Epoch 4/10\n",
      "25000/25000 [==============================] - 19s 747us/step - loss: 0.4624 - acc: 0.8255 - val_loss: 0.4613 - val_acc: 0.8287\n",
      "Epoch 5/10\n",
      "25000/25000 [==============================] - 18s 700us/step - loss: 0.4410 - acc: 0.8455 - val_loss: 0.4518 - val_acc: 0.8406\n",
      "Epoch 6/10\n",
      "25000/25000 [==============================] - 17s 698us/step - loss: 0.4242 - acc: 0.8626 - val_loss: 0.4449 - val_acc: 0.8490\n",
      "Epoch 7/10\n",
      "25000/25000 [==============================] - 19s 748us/step - loss: 0.4112 - acc: 0.8737 - val_loss: 0.4408 - val_acc: 0.8542\n",
      "Epoch 8/10\n",
      "25000/25000 [==============================] - 18s 708us/step - loss: 0.3996 - acc: 0.8821 - val_loss: 0.4394 - val_acc: 0.8579\n",
      "Epoch 9/10\n",
      "25000/25000 [==============================] - 18s 709us/step - loss: 0.3908 - acc: 0.8920 - val_loss: 0.4365 - val_acc: 0.8630\n",
      "Epoch 10/10\n",
      "25000/25000 [==============================] - 19s 759us/step - loss: 0.3834 - acc: 0.8982 - val_loss: 0.4361 - val_acc: 0.8647\n"
     ]
    }
   ],
   "source": [
    "model.compile(optimizer=\"adam\",\n",
    "              loss=\"binary_crossentropy\",\n",
    "              metrics=[\"acc\"])\n",
    "history = model.fit(x_train, y_train,\n",
    "                    epochs=10,\n",
    "                    batch_size=128,\n",
    "                    validation_data=(x_val, y_val))"
   ]
  },
  {
   "cell_type": "code",
   "execution_count": 4,
   "metadata": {},
   "outputs": [],
   "source": [
    "import matplotlib.pyplot as plt"
   ]
  },
  {
   "cell_type": "code",
   "execution_count": 5,
   "metadata": {},
   "outputs": [
    {
     "data": {
      "image/png": "[encoded data removed]",
      "text/plain": [
       "<matplotlib.figure.Figure at 0x7fe88e08c290>"
      ]
     },
     "metadata": {},
     "output_type": "display_data"
    }
   ],
   "source": [
    "history_dict = history.history\n",
    "train_loss = history_dict[\"loss\"]\n",
    "val_loss = history_dict[\"val_loss\"]\n",
    "epochs = range(1, len(train_loss) + 1)\n",
    "plt.plot(epochs, train_loss, \"b-\", label=\"train\")\n",
    "plt.plot(epochs, val_loss, \"r-\", label=\"validation\")\n",
    "plt.legend()\n",
    "plt.xlabel(\"Epochs\")\n",
    "plt.ylabel(\"Loss\")\n",
    "plt.show()"
   ]
  },
  {
   "cell_type": "code",
   "execution_count": 6,
   "metadata": {},
   "outputs": [
    {
     "data": {
      "image/png": "[encoded data removed]",
      "text/plain": [
       "<matplotlib.figure.Figure at 0x7fe88e058090>"
      ]
     },
     "metadata": {},
     "output_type": "display_data"
    }
   ],
   "source": [
    "train_acc = history_dict[\"acc\"]\n",
    "test_acc = history_dict[\"val_acc\"]\n",
    "plt.plot(epochs, train_acc, \"bo\", label=\"train\")\n",
    "plt.plot(epochs, test_acc, \"ro\", label=\"validation\")\n",
    "plt.legend()\n",
    "plt.xlabel(\"Epochs\")\n",
    "plt.ylabel(\"Accuracy\")\n",
    "plt.show()"
   ]
  },
  {
   "cell_type": "markdown",
   "metadata": {},
   "source": [
    "This network achieves better validation performance than the example of 10.2 and is more resistant to overfitting. However overfitting is still a problem, as we can see by the training being better than the validation loss in later epochs. To improve further we really need more data!"
   ]
  }
 ],
 "metadata": {
  "kernelspec": {
   "display_name": "Python 2",
   "language": "python",
   "name": "python2"
  },
  "language_info": {
   "codemirror_mode": {
    "name": "ipython",
    "version": 2
   },
   "file_extension": ".py",
   "mimetype": "text/x-python",
   "name": "python",
   "nbconvert_exporter": "python",
   "pygments_lexer": "ipython2",
   "version": "2.7.12"
  }
 },
 "nbformat": 4,
 "nbformat_minor": 2
}
