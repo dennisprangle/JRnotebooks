{
 "cells": [
  {
   "cell_type": "markdown",
   "metadata": {},
   "source": [
    "# Illustration of not using preprocessing on MNIST"
   ]
  },
  {
   "cell_type": "markdown",
   "metadata": {},
   "source": [
    "Load the MNIST data."
   ]
  },
  {
   "cell_type": "code",
   "execution_count": 1,
   "metadata": {},
   "outputs": [
    {
     "name": "stderr",
     "output_type": "stream",
     "text": [
      "Using TensorFlow backend.\n"
     ]
    }
   ],
   "source": [
    "from keras.datasets import mnist\n",
    "(train_images, train_labels), (val_images, val_labels) = mnist.load_data()"
   ]
  },
  {
   "cell_type": "markdown",
   "metadata": {},
   "source": [
    "Rather than the preprocessing used in other notebooks, we won't transform input values to be between 0 and 1."
   ]
  },
  {
   "cell_type": "code",
   "execution_count": 2,
   "metadata": {},
   "outputs": [],
   "source": [
    "train_images = train_images.reshape((60000, 28 * 28))\n",
    "train_images = train_images.astype(\"float32\")\n",
    "val_images = val_images.reshape((10000, 28 * 28))\n",
    "val_images = val_images.astype(\"float32\")\n",
    "from keras.utils import to_categorical\n",
    "train_labels = to_categorical(train_labels)\n",
    "val_labels = to_categorical(val_labels)"
   ]
  },
  {
   "cell_type": "code",
   "execution_count": 3,
   "metadata": {},
   "outputs": [],
   "source": [
    "from keras import layers\n",
    "from keras import models\n",
    "model = models.Sequential()\n",
    "model.add(layers.Dense(128, activation=\"relu\", input_shape=(28 * 28,)))\n",
    "model.add(layers.Dense(32, activation=\"relu\"))\n",
    "model.add(layers.Dense(10, activation=\"softmax\"))"
   ]
  },
  {
   "cell_type": "code",
   "execution_count": 4,
   "metadata": {},
   "outputs": [
    {
     "name": "stdout",
     "output_type": "stream",
     "text": [
      "Train on 60000 samples, validate on 10000 samples\n",
      "Epoch 1/10\n",
      "60000/60000 [==============================] - 11s 182us/step - loss: 6.5955 - acc: 0.5855 - val_loss: 5.5524 - val_acc: 0.6523\n",
      "Epoch 2/10\n",
      "60000/60000 [==============================] - 9s 148us/step - loss: 5.6363 - acc: 0.6479 - val_loss: 5.5691 - val_acc: 0.6519\n",
      "Epoch 3/10\n",
      "60000/60000 [==============================] - 10s 171us/step - loss: 5.5568 - acc: 0.6536 - val_loss: 5.3198 - val_acc: 0.6686\n",
      "Epoch 4/10\n",
      "60000/60000 [==============================] - 15s 243us/step - loss: 4.9398 - acc: 0.6912 - val_loss: 4.5278 - val_acc: 0.7172\n",
      "Epoch 5/10\n",
      "60000/60000 [==============================] - 14s 232us/step - loss: 4.3511 - acc: 0.7283 - val_loss: 4.2380 - val_acc: 0.7359\n",
      "Epoch 6/10\n",
      "60000/60000 [==============================] - 15s 247us/step - loss: 4.3889 - acc: 0.7265 - val_loss: 4.2938 - val_acc: 0.7325\n",
      "Epoch 7/10\n",
      "60000/60000 [==============================] - 13s 215us/step - loss: 4.2386 - acc: 0.7361 - val_loss: 4.1190 - val_acc: 0.7438\n",
      "Epoch 8/10\n",
      "60000/60000 [==============================] - 12s 204us/step - loss: 4.2164 - acc: 0.7373 - val_loss: 4.0332 - val_acc: 0.7486\n",
      "Epoch 9/10\n",
      "60000/60000 [==============================] - 9s 142us/step - loss: 4.2357 - acc: 0.7363 - val_loss: 3.9706 - val_acc: 0.7531\n",
      "Epoch 10/10\n",
      "60000/60000 [==============================] - 10s 173us/step - loss: 4.0880 - acc: 0.7457 - val_loss: 4.0282 - val_acc: 0.7495\n"
     ]
    }
   ],
   "source": [
    "model.compile(optimizer=\"adam\",\n",
    "              loss=\"categorical_crossentropy\",\n",
    "              metrics=[\"accuracy\"])\n",
    "hist_MNIST = model.fit(train_images, train_labels, epochs=10, batch_size=64,\n",
    "                       validation_data=(val_images, val_labels))"
   ]
  },
  {
   "cell_type": "code",
   "execution_count": 5,
   "metadata": {},
   "outputs": [],
   "source": [
    "import matplotlib.pyplot as plt"
   ]
  },
  {
   "cell_type": "code",
   "execution_count": 6,
   "metadata": {},
   "outputs": [
    {
     "data": {
      "image/png": "[encoded data removed]",
      "text/plain": [
       "<matplotlib.figure.Figure at 0x7fe9d13b2350>"
      ]
     },
     "metadata": {},
     "output_type": "display_data"
    }
   ],
   "source": [
    "history_dict = hist_MNIST.history\n",
    "train_loss = history_dict[\"loss\"]\n",
    "val_loss = history_dict[\"val_loss\"]\n",
    "epochs = range(1, len(train_loss) + 1)\n",
    "plt.plot(epochs, train_loss, \"b-\", label=\"train\")\n",
    "plt.plot(epochs, val_loss, \"r-\", label=\"validation\")\n",
    "plt.legend()\n",
    "plt.xlabel(\"Epochs\")\n",
    "plt.ylabel(\"Loss\")\n",
    "plt.show()"
   ]
  },
  {
   "cell_type": "code",
   "execution_count": 7,
   "metadata": {
    "scrolled": true
   },
   "outputs": [
    {
     "data": {
      "image/png": "[encoded data removed]",
      "text/plain": [
       "<matplotlib.figure.Figure at 0x7fe9d137b250>"
      ]
     },
     "metadata": {},
     "output_type": "display_data"
    }
   ],
   "source": [
    "train_acc = history_dict[\"acc\"]\n",
    "val_acc = history_dict[\"val_acc\"]\n",
    "plt.plot(epochs, train_acc, \"bo\", label=\"train\")\n",
    "plt.plot(epochs, val_acc, \"ro\", label=\"validation\")\n",
    "plt.legend()\n",
    "plt.xlabel(\"Epochs\")\n",
    "plt.ylabel(\"Accuracy\")\n",
    "plt.show()"
   ]
  },
  {
   "cell_type": "markdown",
   "metadata": {},
   "source": [
    "After 10 epochs, our loss and accuracy are still not as good as after a single epoch with normalised data! (see Figure 6.3 in the notes).\n",
    "\n",
    "Note that these results are highly variable - on rerunning the notebook I sometimes got much better or worse results. This illustrate that lack of normalisation makes training highly sensitive to the random choice of initial weights."
   ]
  }
 ],
 "metadata": {
  "kernelspec": {
   "display_name": "Python 2",
   "language": "python",
   "name": "python2"
  },
  "language_info": {
   "codemirror_mode": {
    "name": "ipython",
    "version": 2
   },
   "file_extension": ".py",
   "mimetype": "text/x-python",
   "name": "python",
   "nbconvert_exporter": "python",
   "pygments_lexer": "ipython2",
   "version": "2.7.12"
  }
 },
 "nbformat": 4,
 "nbformat_minor": 2
}
